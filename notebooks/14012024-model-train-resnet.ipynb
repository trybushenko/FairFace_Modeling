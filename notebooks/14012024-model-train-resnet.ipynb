{
 "cells": [
  {
   "cell_type": "code",
   "execution_count": 1,
   "metadata": {},
   "outputs": [],
   "source": [
    "import numpy as np\n",
    "import pandas as pd\n",
    "import matplotlib.pyplot as plt\n",
    "import os\n",
    "\n",
    "import json\n",
    "\n",
    "import torchvision\n",
    "import torch\n",
    "\n",
    "from pathlib import Path\n",
    "from PIL import Image\n",
    "from pprint import pprint\n",
    "from tqdm import tqdm\n",
    "\n",
    "from torch import nn, optim\n",
    "from torchvision.models import resnet50\n",
    "from torchvision import transforms\n",
    "from torch.utils.data import DataLoader\n",
    "from torch.optim import lr_scheduler\n",
    "from torch.utils.tensorboard import SummaryWriter\n",
    "from torch.utils.data import WeightedRandomSampler\n",
    "\n",
    "# custom imports\n",
    "from fairface_classification import data, resnet_model, utils, metrics, train\n",
    "\n",
    "# launch tensorboard writer\n",
    "writer = SummaryWriter('../runs/fairface/')\n",
    "\n",
    "utils.set_random_seed(42)\n",
    "\n",
    "%matplotlib inline\n",
    "%load_ext autoreload\n",
    "%autoreload 2"
   ]
  },
  {
   "cell_type": "markdown",
   "metadata": {},
   "source": [
    "### The following is the model architecture I am going to train on FairFace Dataset\n",
    "\n",
    "Almost the whole model and its architecture - ResNet50 pretrained on ImageNet dataset. The last layer is modified and adapted to current FairFace dataset. There are just 3 classes that should predicted at the same time, so the last layer of the model will have three \"heads\"."
   ]
  },
  {
   "cell_type": "code",
   "execution_count": 2,
   "metadata": {},
   "outputs": [],
   "source": [
    "show_pic = False\n",
    "\n",
    "if show_pic:\n",
    "    Image.open('../model_architecture.png')"
   ]
  },
  {
   "cell_type": "code",
   "execution_count": 3,
   "metadata": {},
   "outputs": [
    {
     "data": {
      "text/html": [
       "<div>\n",
       "<style scoped>\n",
       "    .dataframe tbody tr th:only-of-type {\n",
       "        vertical-align: middle;\n",
       "    }\n",
       "\n",
       "    .dataframe tbody tr th {\n",
       "        vertical-align: top;\n",
       "    }\n",
       "\n",
       "    .dataframe thead th {\n",
       "        text-align: right;\n",
       "    }\n",
       "</style>\n",
       "<table border=\"1\" class=\"dataframe\">\n",
       "  <thead>\n",
       "    <tr style=\"text-align: right;\">\n",
       "      <th></th>\n",
       "      <th>file</th>\n",
       "      <th>age</th>\n",
       "      <th>gender</th>\n",
       "      <th>race</th>\n",
       "      <th>service_test</th>\n",
       "    </tr>\n",
       "  </thead>\n",
       "  <tbody>\n",
       "    <tr>\n",
       "      <th>0</th>\n",
       "      <td>train/1.jpg</td>\n",
       "      <td>50-59</td>\n",
       "      <td>Male</td>\n",
       "      <td>East Asian</td>\n",
       "      <td>True</td>\n",
       "    </tr>\n",
       "    <tr>\n",
       "      <th>1</th>\n",
       "      <td>train/2.jpg</td>\n",
       "      <td>30-39</td>\n",
       "      <td>Female</td>\n",
       "      <td>Indian</td>\n",
       "      <td>False</td>\n",
       "    </tr>\n",
       "    <tr>\n",
       "      <th>2</th>\n",
       "      <td>train/3.jpg</td>\n",
       "      <td>3-9</td>\n",
       "      <td>Female</td>\n",
       "      <td>Black</td>\n",
       "      <td>False</td>\n",
       "    </tr>\n",
       "    <tr>\n",
       "      <th>3</th>\n",
       "      <td>train/4.jpg</td>\n",
       "      <td>20-29</td>\n",
       "      <td>Female</td>\n",
       "      <td>Indian</td>\n",
       "      <td>True</td>\n",
       "    </tr>\n",
       "    <tr>\n",
       "      <th>4</th>\n",
       "      <td>train/5.jpg</td>\n",
       "      <td>20-29</td>\n",
       "      <td>Female</td>\n",
       "      <td>Indian</td>\n",
       "      <td>True</td>\n",
       "    </tr>\n",
       "  </tbody>\n",
       "</table>\n",
       "</div>"
      ],
      "text/plain": [
       "          file    age  gender        race  service_test\n",
       "0  train/1.jpg  50-59    Male  East Asian          True\n",
       "1  train/2.jpg  30-39  Female      Indian         False\n",
       "2  train/3.jpg    3-9  Female       Black         False\n",
       "3  train/4.jpg  20-29  Female      Indian          True\n",
       "4  train/5.jpg  20-29  Female      Indian          True"
      ]
     },
     "execution_count": 3,
     "metadata": {},
     "output_type": "execute_result"
    }
   ],
   "source": [
    "train_label = pd.read_csv('../data/fairface_label_train.csv')\n",
    "resnet = resnet50(weights='IMAGENET1K_V1')\n",
    "train_label.head()"
   ]
  },
  {
   "cell_type": "code",
   "execution_count": 4,
   "metadata": {},
   "outputs": [
    {
     "data": {
      "text/plain": [
       "<All keys matched successfully>"
      ]
     },
     "execution_count": 4,
     "metadata": {},
     "output_type": "execute_result"
    }
   ],
   "source": [
    "resnet.load_state_dict(torch.load('../models/improved-net.pt'))"
   ]
  },
  {
   "cell_type": "markdown",
   "metadata": {},
   "source": [
    "### Initialize Dataset and Dataloader"
   ]
  },
  {
   "cell_type": "code",
   "execution_count": 5,
   "metadata": {},
   "outputs": [
    {
     "name": "stdout",
     "output_type": "stream",
     "text": [
      "{'age': {'0-2': 0,\n",
      "         '10-19': 2,\n",
      "         '20-29': 3,\n",
      "         '3-9': 1,\n",
      "         '30-39': 4,\n",
      "         '40-49': 5,\n",
      "         '50-59': 6,\n",
      "         '60-69': 7,\n",
      "         'more than 70': 8},\n",
      " 'gender': {'Female': 1, 'Male': 0},\n",
      " 'race': {'Black': 4,\n",
      "          'East Asian': 3,\n",
      "          'Indian': 2,\n",
      "          'Latino_Hispanic': 1,\n",
      "          'Middle Eastern': 6,\n",
      "          'Southeast Asian': 5,\n",
      "          'White': 0}}\n"
     ]
    }
   ],
   "source": [
    "race_dict = data.read_json('../data/encodings/race_encoding.json')\n",
    "gender_dict = data.read_json('../data/encodings/gender_encoding.json')\n",
    "age_dict = data.read_json('../data/encodings/age_encoding.json')\n",
    "\n",
    "encoders = {'race' : race_dict, 'age' : age_dict, 'gender' : gender_dict}\n",
    "pprint(encoders)"
   ]
  },
  {
   "cell_type": "code",
   "execution_count": 6,
   "metadata": {},
   "outputs": [
    {
     "name": "stdout",
     "output_type": "stream",
     "text": [
      "       age: 1.50\n",
      "      race: 1.17\n",
      "    gender: 0.33\n"
     ]
    }
   ],
   "source": [
    "train_samples = json.load(open('../train_test_val.json'))['train']\n",
    "label_train_test = pd.read_csv('../data/fairface_label_train.csv')\n",
    "\n",
    "class_weights = utils.calc_tasks_weight({'age' : age_dict, 'gender' : gender_dict, 'race' : race_dict})\n",
    "train_labels = utils.calc_category_weights(train_samples, label_train_test, {'age_dict' : age_dict, 'race_dict' : race_dict, 'gender_dict' : gender_dict})"
   ]
  },
  {
   "cell_type": "code",
   "execution_count": 7,
   "metadata": {},
   "outputs": [
    {
     "data": {
      "text/html": [
       "<div>\n",
       "<style scoped>\n",
       "    .dataframe tbody tr th:only-of-type {\n",
       "        vertical-align: middle;\n",
       "    }\n",
       "\n",
       "    .dataframe tbody tr th {\n",
       "        vertical-align: top;\n",
       "    }\n",
       "\n",
       "    .dataframe thead th {\n",
       "        text-align: right;\n",
       "    }\n",
       "</style>\n",
       "<table border=\"1\" class=\"dataframe\">\n",
       "  <thead>\n",
       "    <tr style=\"text-align: right;\">\n",
       "      <th></th>\n",
       "      <th>file</th>\n",
       "      <th>age</th>\n",
       "      <th>gender</th>\n",
       "      <th>race</th>\n",
       "      <th>age_weight</th>\n",
       "      <th>gender_weight</th>\n",
       "      <th>race_weight</th>\n",
       "      <th>total_weight</th>\n",
       "      <th>group</th>\n",
       "      <th>count</th>\n",
       "      <th>group_weight</th>\n",
       "    </tr>\n",
       "  </thead>\n",
       "  <tbody>\n",
       "    <tr>\n",
       "      <th>0</th>\n",
       "      <td>train/1.jpg</td>\n",
       "      <td>6</td>\n",
       "      <td>0</td>\n",
       "      <td>3</td>\n",
       "      <td>0.000202</td>\n",
       "      <td>0.000027</td>\n",
       "      <td>0.000102</td>\n",
       "      <td>0.000330</td>\n",
       "      <td>603</td>\n",
       "      <td>272</td>\n",
       "      <td>0.003676</td>\n",
       "    </tr>\n",
       "    <tr>\n",
       "      <th>1</th>\n",
       "      <td>train/2.jpg</td>\n",
       "      <td>4</td>\n",
       "      <td>1</td>\n",
       "      <td>2</td>\n",
       "      <td>0.000065</td>\n",
       "      <td>0.000031</td>\n",
       "      <td>0.000102</td>\n",
       "      <td>0.000197</td>\n",
       "      <td>412</td>\n",
       "      <td>931</td>\n",
       "      <td>0.001074</td>\n",
       "    </tr>\n",
       "    <tr>\n",
       "      <th>2</th>\n",
       "      <td>train/4.jpg</td>\n",
       "      <td>3</td>\n",
       "      <td>1</td>\n",
       "      <td>2</td>\n",
       "      <td>0.000049</td>\n",
       "      <td>0.000031</td>\n",
       "      <td>0.000102</td>\n",
       "      <td>0.000181</td>\n",
       "      <td>312</td>\n",
       "      <td>1347</td>\n",
       "      <td>0.000742</td>\n",
       "    </tr>\n",
       "    <tr>\n",
       "      <th>3</th>\n",
       "      <td>train/5.jpg</td>\n",
       "      <td>3</td>\n",
       "      <td>1</td>\n",
       "      <td>2</td>\n",
       "      <td>0.000049</td>\n",
       "      <td>0.000031</td>\n",
       "      <td>0.000102</td>\n",
       "      <td>0.000181</td>\n",
       "      <td>312</td>\n",
       "      <td>1347</td>\n",
       "      <td>0.000742</td>\n",
       "    </tr>\n",
       "    <tr>\n",
       "      <th>4</th>\n",
       "      <td>train/7.jpg</td>\n",
       "      <td>5</td>\n",
       "      <td>0</td>\n",
       "      <td>6</td>\n",
       "      <td>0.000116</td>\n",
       "      <td>0.000027</td>\n",
       "      <td>0.000136</td>\n",
       "      <td>0.000279</td>\n",
       "      <td>506</td>\n",
       "      <td>961</td>\n",
       "      <td>0.001041</td>\n",
       "    </tr>\n",
       "  </tbody>\n",
       "</table>\n",
       "</div>"
      ],
      "text/plain": [
       "          file  age  gender  race  age_weight  gender_weight  race_weight  \\\n",
       "0  train/1.jpg    6       0     3    0.000202       0.000027     0.000102   \n",
       "1  train/2.jpg    4       1     2    0.000065       0.000031     0.000102   \n",
       "2  train/4.jpg    3       1     2    0.000049       0.000031     0.000102   \n",
       "3  train/5.jpg    3       1     2    0.000049       0.000031     0.000102   \n",
       "4  train/7.jpg    5       0     6    0.000116       0.000027     0.000136   \n",
       "\n",
       "   total_weight group  count  group_weight  \n",
       "0      0.000330   603    272      0.003676  \n",
       "1      0.000197   412    931      0.001074  \n",
       "2      0.000181   312   1347      0.000742  \n",
       "3      0.000181   312   1347      0.000742  \n",
       "4      0.000279   506    961      0.001041  "
      ]
     },
     "execution_count": 7,
     "metadata": {},
     "output_type": "execute_result"
    }
   ],
   "source": [
    "def group_class_weight(labels):\n",
    "    \"\"\"\n",
    "    It is another way of calculation of image weight for oversampling technique.\n",
    "\n",
    "    Args:\n",
    "        labels: pd.DataFrame - dataframe with filenames and its labels.\n",
    "    Returns:\n",
    "        labels: pd.DataFrame - dataframe with calculated weights for every file and its labels.\n",
    "    \"\"\"\n",
    "\n",
    "    labels['group'] = labels.apply(lambda x: f'{x[\"age\"]}{x[\"gender\"]}{x[\"race\"]}', axis=1)\n",
    "    group_vc = labels['group'].value_counts()\n",
    "    group_counts = group_vc.to_frame().reset_index()\n",
    "    labels = labels.merge(group_counts, on='group', how='left') \n",
    "    labels['group_weight'] = 1 / labels['count']\n",
    "    return labels\n",
    "\n",
    "train_labels = group_class_weight(train_labels)\n",
    "train_labels.head()"
   ]
  },
  {
   "cell_type": "code",
   "execution_count": 8,
   "metadata": {},
   "outputs": [
    {
     "data": {
      "text/html": [
       "<div>\n",
       "<style scoped>\n",
       "    .dataframe tbody tr th:only-of-type {\n",
       "        vertical-align: middle;\n",
       "    }\n",
       "\n",
       "    .dataframe tbody tr th {\n",
       "        vertical-align: top;\n",
       "    }\n",
       "\n",
       "    .dataframe thead th {\n",
       "        text-align: right;\n",
       "    }\n",
       "</style>\n",
       "<table border=\"1\" class=\"dataframe\">\n",
       "  <thead>\n",
       "    <tr style=\"text-align: right;\">\n",
       "      <th></th>\n",
       "      <th>file</th>\n",
       "      <th>age</th>\n",
       "      <th>gender</th>\n",
       "      <th>race</th>\n",
       "      <th>group</th>\n",
       "      <th>count</th>\n",
       "      <th>group_weight</th>\n",
       "    </tr>\n",
       "  </thead>\n",
       "  <tbody>\n",
       "    <tr>\n",
       "      <th>0</th>\n",
       "      <td>train/1.jpg</td>\n",
       "      <td>6</td>\n",
       "      <td>0</td>\n",
       "      <td>3</td>\n",
       "      <td>603</td>\n",
       "      <td>272</td>\n",
       "      <td>0.003676</td>\n",
       "    </tr>\n",
       "    <tr>\n",
       "      <th>1</th>\n",
       "      <td>train/2.jpg</td>\n",
       "      <td>4</td>\n",
       "      <td>1</td>\n",
       "      <td>2</td>\n",
       "      <td>412</td>\n",
       "      <td>931</td>\n",
       "      <td>0.001074</td>\n",
       "    </tr>\n",
       "    <tr>\n",
       "      <th>2</th>\n",
       "      <td>train/4.jpg</td>\n",
       "      <td>3</td>\n",
       "      <td>1</td>\n",
       "      <td>2</td>\n",
       "      <td>312</td>\n",
       "      <td>1347</td>\n",
       "      <td>0.000742</td>\n",
       "    </tr>\n",
       "    <tr>\n",
       "      <th>3</th>\n",
       "      <td>train/5.jpg</td>\n",
       "      <td>3</td>\n",
       "      <td>1</td>\n",
       "      <td>2</td>\n",
       "      <td>312</td>\n",
       "      <td>1347</td>\n",
       "      <td>0.000742</td>\n",
       "    </tr>\n",
       "    <tr>\n",
       "      <th>4</th>\n",
       "      <td>train/7.jpg</td>\n",
       "      <td>5</td>\n",
       "      <td>0</td>\n",
       "      <td>6</td>\n",
       "      <td>506</td>\n",
       "      <td>961</td>\n",
       "      <td>0.001041</td>\n",
       "    </tr>\n",
       "    <tr>\n",
       "      <th>...</th>\n",
       "      <td>...</td>\n",
       "      <td>...</td>\n",
       "      <td>...</td>\n",
       "      <td>...</td>\n",
       "      <td>...</td>\n",
       "      <td>...</td>\n",
       "      <td>...</td>\n",
       "    </tr>\n",
       "    <tr>\n",
       "      <th>69390</th>\n",
       "      <td>train/86738.jpg</td>\n",
       "      <td>2</td>\n",
       "      <td>0</td>\n",
       "      <td>2</td>\n",
       "      <td>202</td>\n",
       "      <td>510</td>\n",
       "      <td>0.001961</td>\n",
       "    </tr>\n",
       "    <tr>\n",
       "      <th>69391</th>\n",
       "      <td>train/86741.jpg</td>\n",
       "      <td>2</td>\n",
       "      <td>0</td>\n",
       "      <td>2</td>\n",
       "      <td>202</td>\n",
       "      <td>510</td>\n",
       "      <td>0.001961</td>\n",
       "    </tr>\n",
       "    <tr>\n",
       "      <th>69392</th>\n",
       "      <td>train/86742.jpg</td>\n",
       "      <td>8</td>\n",
       "      <td>1</td>\n",
       "      <td>2</td>\n",
       "      <td>812</td>\n",
       "      <td>93</td>\n",
       "      <td>0.010753</td>\n",
       "    </tr>\n",
       "    <tr>\n",
       "      <th>69393</th>\n",
       "      <td>train/86743.jpg</td>\n",
       "      <td>2</td>\n",
       "      <td>1</td>\n",
       "      <td>4</td>\n",
       "      <td>214</td>\n",
       "      <td>663</td>\n",
       "      <td>0.001508</td>\n",
       "    </tr>\n",
       "    <tr>\n",
       "      <th>69394</th>\n",
       "      <td>train/86744.jpg</td>\n",
       "      <td>5</td>\n",
       "      <td>0</td>\n",
       "      <td>0</td>\n",
       "      <td>500</td>\n",
       "      <td>1104</td>\n",
       "      <td>0.000906</td>\n",
       "    </tr>\n",
       "  </tbody>\n",
       "</table>\n",
       "<p>69395 rows × 7 columns</p>\n",
       "</div>"
      ],
      "text/plain": [
       "                  file  age  gender  race group  count  group_weight\n",
       "0          train/1.jpg    6       0     3   603    272      0.003676\n",
       "1          train/2.jpg    4       1     2   412    931      0.001074\n",
       "2          train/4.jpg    3       1     2   312   1347      0.000742\n",
       "3          train/5.jpg    3       1     2   312   1347      0.000742\n",
       "4          train/7.jpg    5       0     6   506    961      0.001041\n",
       "...                ...  ...     ...   ...   ...    ...           ...\n",
       "69390  train/86738.jpg    2       0     2   202    510      0.001961\n",
       "69391  train/86741.jpg    2       0     2   202    510      0.001961\n",
       "69392  train/86742.jpg    8       1     2   812     93      0.010753\n",
       "69393  train/86743.jpg    2       1     4   214    663      0.001508\n",
       "69394  train/86744.jpg    5       0     0   500   1104      0.000906\n",
       "\n",
       "[69395 rows x 7 columns]"
      ]
     },
     "execution_count": 8,
     "metadata": {},
     "output_type": "execute_result"
    }
   ],
   "source": [
    "train_labels.drop(['age_weight', 'gender_weight', 'race_weight', 'total_weight'], axis=1)"
   ]
  },
  {
   "cell_type": "code",
   "execution_count": 9,
   "metadata": {},
   "outputs": [],
   "source": [
    "root_dir = Path('..')\n",
    "images_dir = 'data/'\n",
    "\n",
    "# Set the batch size for 64 samples\n",
    "batch_size = 256\n",
    "\n",
    "sampler = WeightedRandomSampler(weights=train_labels['group_weight'], num_samples=len(train_labels), replacement=True)\n",
    "\n",
    "# Create a FairFaceDataset object for the training data.\n",
    "fairface_train = data.FairFaceDataset('fairface_label_train.csv', \n",
    "                                        root_dir=root_dir, \n",
    "                                        mode='train',\n",
    "                                        encoders=encoders,\n",
    "                                        transform=transforms.Compose([transforms.ToTensor(),\n",
    "                                                                      transforms.RandomHorizontalFlip(p=0.5),\n",
    "                                                                      transforms.RandomPerspective(p=0.5),\n",
    "                                                                      transforms.RandomGrayscale(p=0.2),\n",
    "                                                                      transforms.RandomAdjustSharpness(2, p=0.5),\n",
    "                                                                      transforms.Normalize(mean=[0.485, 0.456, 0.406], \n",
    "                                                                                           std=[0.229, 0.224, 0.225])\n",
    "                                                                      ]))\n",
    "# Set the FairFaceDataset object to train mode.\n",
    "fairface_train.train()\n",
    "# Create a DataLoader object for the training data.\n",
    "train_loader = DataLoader(fairface_train, batch_size=batch_size, num_workers=5, sampler=sampler)\n",
    "\n",
    "# Create a FairFaceDataset object for the test data.\n",
    "fairface_test = data.FairFaceDataset('fairface_label_train.csv', \n",
    "                                     root_dir=root_dir, \n",
    "                                     mode='test',\n",
    "                                     encoders=encoders,\n",
    "                                     transform=transforms.Compose([transforms.ToTensor(),\n",
    "                                                                   transforms.Normalize(mean=[0.485, 0.456, 0.406], \n",
    "                                                                                        std=[0.229, 0.224, 0.225])]))\n",
    "# Set the FairFaceDataset object to train mode.\n",
    "fairface_test.train()\n",
    "# Create a DataLoader object for the test data.\n",
    "test_loader = DataLoader(fairface_test, batch_size=batch_size, shuffle=True, num_workers=5)\n",
    "\n",
    "# Create a FairFaceDataset object for the validation data.\n",
    "fairface_val = data.FairFaceDataset('fairface_label_val.csv', \n",
    "                                     root_dir=root_dir, \n",
    "                                     mode='val',\n",
    "                                     encoders=encoders,\n",
    "                                     transform=transforms.Compose([transforms.ToTensor(),\n",
    "                                                                   transforms.Normalize(mean=[0.485, 0.456, 0.406], \n",
    "                                                                                        std=[0.229, 0.224, 0.225])]))\n",
    "# Set the FairFaceDataset object to train mode.\n",
    "fairface_val.train()\n",
    "# Create a DataLoader object for the validation data.\n",
    "val_loader = DataLoader(fairface_val, batch_size=batch_size, shuffle=True, num_workers=5)"
   ]
  },
  {
   "cell_type": "code",
   "execution_count": 10,
   "metadata": {},
   "outputs": [
    {
     "name": "stderr",
     "output_type": "stream",
     "text": [
      "Clipping input data to the valid range for imshow with RGB data ([0..1] for floats or [0..255] for integers).\n"
     ]
    },
    {
     "data": {
      "image/png": "[encoded data removed]",
      "text/plain": [
       "<Figure size 640x480 with 1 Axes>"
      ]
     },
     "metadata": {},
     "output_type": "display_data"
    }
   ],
   "source": [
    "def display_torch_img(dataset, index):\n",
    "    \"\"\"Displays a single image from the given dataset at the given index.\n",
    "\n",
    "    Args:\n",
    "        dataset: A PyTorch dataset object or the array of tensors.\n",
    "        index: The index of the image to display.\n",
    "\n",
    "    Returns:\n",
    "        None.\n",
    "    \"\"\"\n",
    "\n",
    "    # Check if the dataset is a FairFaceDataset object.\n",
    "    if type(dataset) == data.FairFaceDataset:\n",
    "\n",
    "        # Get the image from the dataset.\n",
    "        img = dataset[index]['image']\n",
    "\n",
    "        # If the image is a 4D tensor, squeeze it to a 3D tensor.\n",
    "        if len(dataset[index]['image'].shape) == 4:\n",
    "            img = torch.squeeze(img)\n",
    "\n",
    "    # Otherwise, the dataset is assumed to be an array of tensors.\n",
    "    else:\n",
    "\n",
    "        # Get the image from the dataset.\n",
    "        img = dataset[index]\n",
    "\n",
    "    # Permute the image axes so that the channel axis is the last axis.\n",
    "    img = img.permute(1, 2, 0)\n",
    "\n",
    "    # Display the image using Matplotlib.\n",
    "    plt.imshow(img)\n",
    "    plt.show()\n",
    "\n",
    "display_torch_img(fairface_train, 35)"
   ]
  },
  {
   "cell_type": "markdown",
   "metadata": {},
   "source": [
    "### Sample data"
   ]
  },
  {
   "cell_type": "code",
   "execution_count": 11,
   "metadata": {},
   "outputs": [],
   "source": [
    "img_grid = torchvision.utils.make_grid(fairface_train[13]['image'])\n",
    "writer.add_image('fairface_image1', img_grid)\n",
    "\n",
    "img_grid = torchvision.utils.make_grid(fairface_train[26]['image'])\n",
    "writer.add_image('fairface_image2', img_grid)\n",
    "\n",
    "for i in range(5):\n",
    "    img_grid = torchvision.utils.make_grid(fairface_train[43 + i]['image'])\n",
    "    writer.add_image(f'fairface_image{i + 3}', img_grid)"
   ]
  },
  {
   "cell_type": "markdown",
   "metadata": {},
   "source": [
    "### First try of training a neural network"
   ]
  },
  {
   "cell_type": "code",
   "execution_count": 12,
   "metadata": {},
   "outputs": [
    {
     "name": "stdout",
     "output_type": "stream",
     "text": [
      "Adjusting learning rate of group 0 to 1.0000e-04.\n"
     ]
    }
   ],
   "source": [
    "device = torch.device(\"cuda:0\" if torch.cuda.is_available() else \"cpu\")\n",
    "resnet = resnet.to(device)\n",
    "model = resnet_model.FairFaceResNet(resnet).to(device)\n",
    "\n",
    "# For race and age classes\n",
    "bce = nn.BCELoss().to(device)\n",
    "criterion = nn.CrossEntropyLoss().to(device)\n",
    "optimizer = optim.Adam(model.parameters(), lr=1e-4)\n",
    "scheduler = lr_scheduler.MultiStepLR(optimizer, milestones=[5, 10, 15, 20, 25], gamma=0.5, verbose=True)"
   ]
  },
  {
   "cell_type": "markdown",
   "metadata": {},
   "source": [
    "### Train model"
   ]
  },
  {
   "cell_type": "code",
   "execution_count": 13,
   "metadata": {},
   "outputs": [
    {
     "name": "stderr",
     "output_type": "stream",
     "text": [
      "100%|██████████| 272/272 [01:59<00:00,  2.28it/s]\n"
     ]
    },
    {
     "name": "stdout",
     "output_type": "stream",
     "text": [
      "Training step:\n",
      "Epoch = 1, Loss = 5.665336608886719\n",
      "Age accuracy = 0.18267886735355574\tRace accuracy = 0.14256070322069314\tGender accuracy = 0.5202824410980618\n",
      "Age loss = 2.100086212158203\tRace loss = 1.9545117616653442\tGender Loss = 0.6922140121459961\n"
     ]
    },
    {
     "name": "stderr",
     "output_type": "stream",
     "text": [
      "100%|██████████| 68/68 [00:12<00:00,  5.30it/s]\n"
     ]
    },
    {
     "name": "stdout",
     "output_type": "stream",
     "text": [
      "Validation step:\n",
      "Epoch = 1, Loss = 5.605871326783124\n",
      "Age accuracy = 0.24439448959594212\tRace accuracy = 0.14260187907083982\tGender accuracy = 0.6057409648971123\n",
      "Age loss = 2.0721206665039062\tRace loss = 1.9442858695983887\tGender Loss = 0.6753796935081482\n",
      "End of Epoch: 1 \tTraining Loss: 5.665336608886719 \tValidation Loss: 5.605871326783124\n",
      "Validation loss decreased (inf --> 5.605871326783124).  Saving model ...\n"
     ]
    },
    {
     "name": "stderr",
     "output_type": "stream",
     "text": [
      "100%|██████████| 272/272 [01:58<00:00,  2.30it/s]\n"
     ]
    },
    {
     "name": "stdout",
     "output_type": "stream",
     "text": [
      "Training step:\n",
      "Epoch = 2, Loss = 5.293417453765869\n",
      "Age accuracy = 0.27189278766481734\tRace accuracy = 0.15555875783557893\tGender accuracy = 0.6045968729735571\n",
      "Age loss = 1.866214394569397\tRace loss = 1.9455535411834717\tGender Loss = 0.6599953770637512\n"
     ]
    },
    {
     "name": "stderr",
     "output_type": "stream",
     "text": [
      "100%|██████████| 68/68 [00:12<00:00,  5.24it/s]\n"
     ]
    },
    {
     "name": "stdout",
     "output_type": "stream",
     "text": [
      "Validation step:\n",
      "Epoch = 2, Loss = 5.264714675791123\n",
      "Age accuracy = 0.23874574903452647\tRace accuracy = 0.2288892731569543\tGender accuracy = 0.7063807712260073\n",
      "Age loss = 1.902685284614563\tRace loss = 1.89837646484375\tGender Loss = 0.5745049118995667\n",
      "End of Epoch: 2 \tTraining Loss: 5.293417453765869 \tValidation Loss: 5.264714675791123\n",
      "Validation loss decreased (5.605871326783124 --> 5.264714675791123).  Saving model ...\n"
     ]
    },
    {
     "name": "stderr",
     "output_type": "stream",
     "text": [
      "100%|██████████| 272/272 [02:00<00:00,  2.26it/s]\n"
     ]
    },
    {
     "name": "stdout",
     "output_type": "stream",
     "text": [
      "Training step:\n",
      "Epoch = 3, Loss = 4.954524993896484\n",
      "Age accuracy = 0.3223142877728943\tRace accuracy = 0.21334390085741048\tGender accuracy = 0.7154261834426111\n",
      "Age loss = 1.7129862308502197\tRace loss = 1.882794976234436\tGender Loss = 0.5520415902137756\n"
     ]
    },
    {
     "name": "stderr",
     "output_type": "stream",
     "text": [
      "100%|██████████| 68/68 [00:12<00:00,  5.33it/s]\n"
     ]
    },
    {
     "name": "stdout",
     "output_type": "stream",
     "text": [
      "Validation step:\n",
      "Epoch = 3, Loss = 4.734082474428065\n",
      "Age accuracy = 0.32716583088362444\tRace accuracy = 0.31166061444463655\tGender accuracy = 0.8192979422445098\n",
      "Age loss = 1.7311041355133057\tRace loss = 1.720981240272522\tGender Loss = 0.3753863573074341\n",
      "End of Epoch: 3 \tTraining Loss: 4.954524993896484 \tValidation Loss: 4.734082474428065\n",
      "Validation loss decreased (5.264714675791123 --> 4.734082474428065).  Saving model ...\n"
     ]
    },
    {
     "name": "stderr",
     "output_type": "stream",
     "text": [
      "100%|██████████| 272/272 [01:58<00:00,  2.30it/s]\n"
     ]
    },
    {
     "name": "stdout",
     "output_type": "stream",
     "text": [
      "Training step:\n",
      "Epoch = 4, Loss = 4.5987935066223145\n",
      "Age accuracy = 0.3641184523380647\tRace accuracy = 0.2627566827581238\tGender accuracy = 0.7876071763095324\n",
      "Age loss = 1.5915818214416504\tRace loss = 1.765821099281311\tGender Loss = 0.4406423568725586\n"
     ]
    },
    {
     "name": "stderr",
     "output_type": "stream",
     "text": [
      "100%|██████████| 68/68 [00:13<00:00,  5.18it/s]\n"
     ]
    },
    {
     "name": "stdout",
     "output_type": "stream",
     "text": [
      "Validation step:\n",
      "Epoch = 4, Loss = 4.319908464656157\n",
      "Age accuracy = 0.3776010144676927\tRace accuracy = 0.3269929102541933\tGender accuracy = 0.862585739812093\n",
      "Age loss = 1.5386439561843872\tRace loss = 1.6346800327301025\tGender Loss = 0.30110999941825867\n",
      "End of Epoch: 4 \tTraining Loss: 4.5987935066223145 \tValidation Loss: 4.319908464656157\n",
      "Validation loss decreased (4.734082474428065 --> 4.319908464656157).  Saving model ...\n"
     ]
    },
    {
     "name": "stderr",
     "output_type": "stream",
     "text": [
      "100%|██████████| 272/272 [01:58<00:00,  2.29it/s]\n"
     ]
    },
    {
     "name": "stdout",
     "output_type": "stream",
     "text": [
      "Training step:\n",
      "Epoch = 5, Loss = 4.344922065734863\n",
      "Age accuracy = 0.40304056488219614\tRace accuracy = 0.28770084300021614\tGender accuracy = 0.8231716982491534\n",
      "Age loss = 1.4862544536590576\tRace loss = 1.7007784843444824\tGender Loss = 0.3806934356689453\n"
     ]
    },
    {
     "name": "stderr",
     "output_type": "stream",
     "text": [
      "100%|██████████| 68/68 [00:13<00:00,  5.16it/s]\n"
     ]
    },
    {
     "name": "stdout",
     "output_type": "stream",
     "text": [
      "Validation step:\n",
      "Epoch = 5, Loss = 4.041037822470946\n",
      "Age accuracy = 0.4486713931638711\tRace accuracy = 0.3454954176033201\tGender accuracy = 0.8776874747824082\n",
      "Age loss = 1.4058592319488525\tRace loss = 1.5717192888259888\tGender Loss = 0.28284138441085815\n",
      "End of Epoch: 5 \tTraining Loss: 4.344922065734863 \tValidation Loss: 4.041037822470946\n",
      "Validation loss decreased (4.319908464656157 --> 4.041037822470946).  Saving model ...\n"
     ]
    },
    {
     "name": "stderr",
     "output_type": "stream",
     "text": [
      "100%|██████████| 272/272 [01:58<00:00,  2.29it/s]\n"
     ]
    },
    {
     "name": "stdout",
     "output_type": "stream",
     "text": [
      "Training step:\n",
      "Epoch = 6, Loss = 4.165299892425537\n",
      "Age accuracy = 0.4316161106707976\tRace accuracy = 0.30300453923193316\tGender accuracy = 0.8414871388428561\n",
      "Age loss = 1.4067388772964478\tRace loss = 1.658821702003479\tGender Loss = 0.3465842604637146\n"
     ]
    },
    {
     "name": "stderr",
     "output_type": "stream",
     "text": [
      "100%|██████████| 68/68 [00:13<00:00,  5.19it/s]\n"
     ]
    },
    {
     "name": "stdout",
     "output_type": "stream",
     "text": [
      "Validation step:\n",
      "Epoch = 6, Loss = 3.952367481063394\n",
      "Age accuracy = 0.45921955155916766\tRace accuracy = 0.3646896074701712\tGender accuracy = 0.889215516744481\n",
      "Age loss = 1.3699113130569458\tRace loss = 1.5485550165176392\tGender Loss = 0.25967055559158325\n",
      "End of Epoch: 6 \tTraining Loss: 4.165299892425537 \tValidation Loss: 3.952367481063394\n",
      "Validation loss decreased (4.041037822470946 --> 3.952367481063394).  Saving model ...\n"
     ]
    },
    {
     "name": "stderr",
     "output_type": "stream",
     "text": [
      "100%|██████████| 272/272 [01:58<00:00,  2.30it/s]\n"
     ]
    },
    {
     "name": "stdout",
     "output_type": "stream",
     "text": [
      "Training step:\n",
      "Epoch = 7, Loss = 4.015231609344482\n",
      "Age accuracy = 0.45137257727501984\tRace accuracy = 0.32110382592405795\tGender accuracy = 0.8530297571871173\n",
      "Age loss = 1.341285228729248\tRace loss = 1.619937777519226\tGender Loss = 0.3271995484828949\n"
     ]
    },
    {
     "name": "stderr",
     "output_type": "stream",
     "text": [
      "100%|██████████| 68/68 [00:13<00:00,  5.17it/s]\n"
     ]
    },
    {
     "name": "stdout",
     "output_type": "stream",
     "text": [
      "Validation step:\n",
      "Epoch = 7, Loss = 3.754247146494248\n",
      "Age accuracy = 0.488270217303591\tRace accuracy = 0.38953253789843795\tGender accuracy = 0.8895613580033431\n",
      "Age loss = 1.2709650993347168\tRace loss = 1.5081746578216553\tGender Loss = 0.2522282004356384\n",
      "End of Epoch: 7 \tTraining Loss: 4.015231609344482 \tValidation Loss: 3.754247146494248\n",
      "Validation loss decreased (3.952367481063394 --> 3.754247146494248).  Saving model ...\n"
     ]
    },
    {
     "name": "stderr",
     "output_type": "stream",
     "text": [
      "100%|██████████| 272/272 [01:58<00:00,  2.30it/s]\n"
     ]
    },
    {
     "name": "stdout",
     "output_type": "stream",
     "text": [
      "Training step:\n",
      "Epoch = 8, Loss = 3.8814258575439453\n",
      "Age accuracy = 0.4726853519706031\tRace accuracy = 0.34191224151595934\tGender accuracy = 0.8636212983644355\n",
      "Age loss = 1.2882622480392456\tRace loss = 1.578964114189148\tGender Loss = 0.30801743268966675\n"
     ]
    },
    {
     "name": "stderr",
     "output_type": "stream",
     "text": [
      "100%|██████████| 68/68 [00:13<00:00,  5.20it/s]\n"
     ]
    },
    {
     "name": "stdout",
     "output_type": "stream",
     "text": [
      "Validation step:\n",
      "Epoch = 8, Loss = 3.6565851393867943\n",
      "Age accuracy = 0.502853190385613\tRace accuracy = 0.41362614559917\tGender accuracy = 0.8991872730416739\n",
      "Age loss = 1.2268867492675781\tRace loss = 1.4839422702789307\tGender Loss = 0.2425534576177597\n",
      "End of Epoch: 8 \tTraining Loss: 3.8814258575439453 \tValidation Loss: 3.6565851393867943\n",
      "Validation loss decreased (3.754247146494248 --> 3.6565851393867943).  Saving model ...\n"
     ]
    },
    {
     "name": "stderr",
     "output_type": "stream",
     "text": [
      "100%|██████████| 272/272 [01:58<00:00,  2.30it/s]\n"
     ]
    },
    {
     "name": "stdout",
     "output_type": "stream",
     "text": [
      "Training step:\n",
      "Epoch = 9, Loss = 3.796189785003662\n",
      "Age accuracy = 0.48353627782981484\tRace accuracy = 0.35718711722746593\tGender accuracy = 0.8686792996613589\n",
      "Age loss = 1.2539039850234985\tRace loss = 1.5529654026031494\tGender Loss = 0.29807406663894653\n"
     ]
    },
    {
     "name": "stderr",
     "output_type": "stream",
     "text": [
      "100%|██████████| 68/68 [00:13<00:00,  5.20it/s]\n"
     ]
    },
    {
     "name": "stdout",
     "output_type": "stream",
     "text": [
      "Validation step:\n",
      "Epoch = 9, Loss = 3.6359619848868427\n",
      "Age accuracy = 0.5010087036716814\tRace accuracy = 0.4321862931581071\tGender accuracy = 0.8913482045074644\n",
      "Age loss = 1.2202415466308594\tRace loss = 1.4739677906036377\tGender Loss = 0.24562866985797882\n",
      "End of Epoch: 9 \tTraining Loss: 3.796189785003662 \tValidation Loss: 3.6359619848868427\n",
      "Validation loss decreased (3.6565851393867943 --> 3.6359619848868427).  Saving model ...\n"
     ]
    },
    {
     "name": "stderr",
     "output_type": "stream",
     "text": [
      "100%|██████████| 272/272 [01:58<00:00,  2.30it/s]\n"
     ]
    },
    {
     "name": "stdout",
     "output_type": "stream",
     "text": [
      "Training step:\n",
      "Epoch = 10, Loss = 3.6918671131134033\n",
      "Age accuracy = 0.49507889617407597\tRace accuracy = 0.38275091865408173\tGender accuracy = 0.8730888392535485\n",
      "Age loss = 1.2192904949188232\tRace loss = 1.5110719203948975\tGender Loss = 0.2878096103668213\n"
     ]
    },
    {
     "name": "stderr",
     "output_type": "stream",
     "text": [
      "100%|██████████| 68/68 [00:13<00:00,  5.17it/s]\n"
     ]
    },
    {
     "name": "stdout",
     "output_type": "stream",
     "text": [
      "Validation step:\n",
      "Epoch = 10, Loss = 3.5529890446101917\n",
      "Age accuracy = 0.49466828059254137\tRace accuracy = 0.4628508847772206\tGender accuracy = 0.9002247968182604\n",
      "Age loss = 1.214487075805664\tRace loss = 1.4142969846725464\tGender Loss = 0.231911301612854\n",
      "End of Epoch: 10 \tTraining Loss: 3.6918671131134033 \tValidation Loss: 3.5529890446101917\n",
      "Validation loss decreased (3.6359619848868427 --> 3.5529890446101917).  Saving model ...\n"
     ]
    },
    {
     "name": "stderr",
     "output_type": "stream",
     "text": [
      "100%|██████████| 272/272 [01:58<00:00,  2.30it/s]\n"
     ]
    },
    {
     "name": "stdout",
     "output_type": "stream",
     "text": [
      "Training step:\n",
      "Epoch = 11, Loss = 3.5720224380493164\n",
      "Age accuracy = 0.5027451545500397\tRace accuracy = 0.4200446718063261\tGender accuracy = 0.8764752503782693\n",
      "Age loss = 1.2006559371948242\tRace loss = 1.434112310409546\tGender Loss = 0.28220334649086\n"
     ]
    },
    {
     "name": "stderr",
     "output_type": "stream",
     "text": [
      "100%|██████████| 68/68 [00:13<00:00,  5.14it/s]\n"
     ]
    },
    {
     "name": "stdout",
     "output_type": "stream",
     "text": [
      "Validation step:\n",
      "Epoch = 11, Loss = 3.393067310838138\n",
      "Age accuracy = 0.5042365554210617\tRace accuracy = 0.5030261110150441\tGender accuracy = 0.8947489768862759\n",
      "Age loss = 1.1881023645401\tRace loss = 1.3057199716567993\tGender Loss = 0.2521860897541046\n",
      "End of Epoch: 11 \tTraining Loss: 3.5720224380493164 \tValidation Loss: 3.393067310838138\n",
      "Validation loss decreased (3.5529890446101917 --> 3.393067310838138).  Saving model ...\n"
     ]
    },
    {
     "name": "stderr",
     "output_type": "stream",
     "text": [
      "100%|██████████| 272/272 [01:58<00:00,  2.30it/s]\n"
     ]
    },
    {
     "name": "stdout",
     "output_type": "stream",
     "text": [
      "Training step:\n",
      "Epoch = 12, Loss = 3.426037073135376\n",
      "Age accuracy = 0.513567259889041\tRace accuracy = 0.4533756034296419\tGender accuracy = 0.8825996109229771\n",
      "Age loss = 1.170506238937378\tRace loss = 1.3515311479568481\tGender Loss = 0.26965779066085815\n"
     ]
    },
    {
     "name": "stderr",
     "output_type": "stream",
     "text": [
      "100%|██████████| 68/68 [00:13<00:00,  5.19it/s]\n"
     ]
    },
    {
     "name": "stdout",
     "output_type": "stream",
     "text": [
      "Validation step:\n",
      "Epoch = 12, Loss = 3.309033025713528\n",
      "Age accuracy = 0.5222203008818952\tRace accuracy = 0.507752608219494\tGender accuracy = 0.9032797279382097\n",
      "Age loss = 1.160545825958252\tRace loss = 1.276430368423462\tGender Loss = 0.22663871943950653\n",
      "End of Epoch: 12 \tTraining Loss: 3.426037073135376 \tValidation Loss: 3.309033025713528\n",
      "Validation loss decreased (3.393067310838138 --> 3.309033025713528).  Saving model ...\n"
     ]
    },
    {
     "name": "stderr",
     "output_type": "stream",
     "text": [
      "100%|██████████| 272/272 [01:59<00:00,  2.28it/s]\n"
     ]
    },
    {
     "name": "stdout",
     "output_type": "stream",
     "text": [
      "Training step:\n",
      "Epoch = 13, Loss = 3.3158671855926514\n",
      "Age accuracy = 0.5218243389293177\tRace accuracy = 0.4782333021111031\tGender accuracy = 0.8850349448807551\n",
      "Age loss = 1.141722321510315\tRace loss = 1.2958005666732788\tGender Loss = 0.2642376124858856\n"
     ]
    },
    {
     "name": "stderr",
     "output_type": "stream",
     "text": [
      "100%|██████████| 68/68 [00:13<00:00,  5.13it/s]\n"
     ]
    },
    {
     "name": "stdout",
     "output_type": "stream",
     "text": [
      "Validation step:\n",
      "Epoch = 13, Loss = 3.3272287600180683\n",
      "Age accuracy = 0.499048936538129\tRace accuracy = 0.5319038561300363\tGender accuracy = 0.8995907545103464\n",
      "Age loss = 1.2049607038497925\tRace loss = 1.2310535907745361\tGender Loss = 0.2407727837562561\n",
      "End of Epoch: 13 \tTraining Loss: 3.3158671855926514 \tValidation Loss: 3.3272287600180683\n"
     ]
    },
    {
     "name": "stderr",
     "output_type": "stream",
     "text": [
      "100%|██████████| 272/272 [01:57<00:00,  2.31it/s]\n"
     ]
    },
    {
     "name": "stdout",
     "output_type": "stream",
     "text": [
      "Training step:\n",
      "Epoch = 14, Loss = 3.241497039794922\n",
      "Age accuracy = 0.5307154694142229\tRace accuracy = 0.500698897615102\tGender accuracy = 0.8884501765256863\n",
      "Age loss = 1.1294364929199219\tRace loss = 1.2493289709091187\tGender Loss = 0.259477823972702\n"
     ]
    },
    {
     "name": "stderr",
     "output_type": "stream",
     "text": [
      "100%|██████████| 68/68 [00:12<00:00,  5.30it/s]\n"
     ]
    },
    {
     "name": "stdout",
     "output_type": "stream",
     "text": [
      "Validation step:\n",
      "Epoch = 14, Loss = 3.2069471969324\n",
      "Age accuracy = 0.5223932215113263\tRace accuracy = 0.5414144907487464\tGender accuracy = 0.9082944261917113\n",
      "Age loss = 1.1520838737487793\tRace loss = 1.2008397579193115\tGender Loss = 0.22375436127185822\n",
      "End of Epoch: 14 \tTraining Loss: 3.241497039794922 \tValidation Loss: 3.2069471969324\n",
      "Validation loss decreased (3.309033025713528 --> 3.2069471969324).  Saving model ...\n"
     ]
    },
    {
     "name": "stderr",
     "output_type": "stream",
     "text": [
      "100%|██████████| 272/272 [01:58<00:00,  2.30it/s]\n"
     ]
    },
    {
     "name": "stdout",
     "output_type": "stream",
     "text": [
      "Training step:\n",
      "Epoch = 15, Loss = 3.190361261367798\n",
      "Age accuracy = 0.5291591613228619\tRace accuracy = 0.5145759780964047\tGender accuracy = 0.8934505367821889\n",
      "Age loss = 1.1255995035171509\tRace loss = 1.212310552597046\tGender Loss = 0.253216028213501\n"
     ]
    },
    {
     "name": "stderr",
     "output_type": "stream",
     "text": [
      "100%|██████████| 68/68 [00:13<00:00,  5.16it/s]\n"
     ]
    },
    {
     "name": "stdout",
     "output_type": "stream",
     "text": [
      "Validation step:\n",
      "Epoch = 15, Loss = 3.269914991715375\n",
      "Age accuracy = 0.5012392645109228\tRace accuracy = 0.5406075278114012\tGender accuracy = 0.9083520664015217\n",
      "Age loss = 1.1696447134017944\tRace loss = 1.2329893112182617\tGender Loss = 0.22076041996479034\n",
      "End of Epoch: 15 \tTraining Loss: 3.190361261367798 \tValidation Loss: 3.269914991715375\n"
     ]
    },
    {
     "name": "stderr",
     "output_type": "stream",
     "text": [
      "100%|██████████| 272/272 [01:58<00:00,  2.29it/s]\n"
     ]
    },
    {
     "name": "stdout",
     "output_type": "stream",
     "text": [
      "Training step:\n",
      "Epoch = 16, Loss = 3.093519449234009\n",
      "Age accuracy = 0.5435550111679516\tRace accuracy = 0.5326032134880034\tGender accuracy = 0.8992578716045825\n",
      "Age loss = 1.091771125793457\tRace loss = 1.1752355098724365\tGender Loss = 0.24496008455753326\n"
     ]
    },
    {
     "name": "stderr",
     "output_type": "stream",
     "text": [
      "100%|██████████| 68/68 [00:13<00:00,  5.07it/s]\n"
     ]
    },
    {
     "name": "stdout",
     "output_type": "stream",
     "text": [
      "Validation step:\n",
      "Epoch = 16, Loss = 3.260387764257543\n",
      "Age accuracy = 0.4866562914289008\tRace accuracy = 0.5456798662747132\tGender accuracy = 0.9105423943743155\n",
      "Age loss = 1.1970269680023193\tRace loss = 1.1906529664993286\tGender Loss = 0.21752609312534332\n",
      "End of Epoch: 16 \tTraining Loss: 3.093519449234009 \tValidation Loss: 3.260387764257543\n"
     ]
    },
    {
     "name": "stderr",
     "output_type": "stream",
     "text": [
      "100%|██████████| 272/272 [02:01<00:00,  2.24it/s]\n"
     ]
    },
    {
     "name": "stdout",
     "output_type": "stream",
     "text": [
      "Training step:\n",
      "Epoch = 17, Loss = 3.0466127395629883\n",
      "Age accuracy = 0.5507457309604439\tRace accuracy = 0.5376323942647164\tGender accuracy = 0.9007277181353124\n",
      "Age loss = 1.0714011192321777\tRace loss = 1.1625036001205444\tGender Loss = 0.24055133759975433\n"
     ]
    },
    {
     "name": "stderr",
     "output_type": "stream",
     "text": [
      "100%|██████████| 68/68 [00:13<00:00,  4.87it/s]\n"
     ]
    },
    {
     "name": "stdout",
     "output_type": "stream",
     "text": [
      "Validation step:\n",
      "Epoch = 17, Loss = 3.179964041008669\n",
      "Age accuracy = 0.5059657617153727\tRace accuracy = 0.5525966914519569\tGender accuracy = 0.9074298230445559\n",
      "Age loss = 1.1612305641174316\tRace loss = 1.1654611825942993\tGender Loss = 0.22584541141986847\n",
      "End of Epoch: 17 \tTraining Loss: 3.0466127395629883 \tValidation Loss: 3.179964041008669\n",
      "Validation loss decreased (3.2069471969324 --> 3.179964041008669).  Saving model ...\n"
     ]
    },
    {
     "name": "stderr",
     "output_type": "stream",
     "text": [
      "100%|██████████| 272/272 [02:04<00:00,  2.19it/s]\n"
     ]
    },
    {
     "name": "stdout",
     "output_type": "stream",
     "text": [
      "Training step:\n",
      "Epoch = 18, Loss = 3.042651414871216\n",
      "Age accuracy = 0.5500252179551841\tRace accuracy = 0.5412349592910152\tGender accuracy = 0.9002377692917357\n",
      "Age loss = 1.0747910737991333\tRace loss = 1.1541074514389038\tGender Loss = 0.2429039031267166\n"
     ]
    },
    {
     "name": "stderr",
     "output_type": "stream",
     "text": [
      "100%|██████████| 68/68 [00:13<00:00,  4.94it/s]\n"
     ]
    },
    {
     "name": "stdout",
     "output_type": "stream",
     "text": [
      "Validation step:\n",
      "Epoch = 18, Loss = 3.2853836522382847\n",
      "Age accuracy = 0.48850077814283244\tRace accuracy = 0.5532883739696812\tGender accuracy = 0.9070263415758834\n",
      "Age loss = 1.1991302967071533\tRace loss = 1.2079315185546875\tGender Loss = 0.22244825959205627\n",
      "End of Epoch: 18 \tTraining Loss: 3.042651414871216 \tValidation Loss: 3.2853836522382847\n"
     ]
    },
    {
     "name": "stderr",
     "output_type": "stream",
     "text": [
      "100%|██████████| 272/272 [01:58<00:00,  2.29it/s]\n"
     ]
    },
    {
     "name": "stdout",
     "output_type": "stream",
     "text": [
      "Training step:\n",
      "Epoch = 19, Loss = 2.9577460289001465\n",
      "Age accuracy = 0.5579940917933569\tRace accuracy = 0.5559046040781036\tGender accuracy = 0.9049931551264501\n",
      "Age loss = 1.0540454387664795\tRace loss = 1.1103650331497192\tGender Loss = 0.235004723072052\n"
     ]
    },
    {
     "name": "stderr",
     "output_type": "stream",
     "text": [
      "100%|██████████| 68/68 [00:13<00:00,  5.08it/s]\n"
     ]
    },
    {
     "name": "stdout",
     "output_type": "stream",
     "text": [
      "Validation step:\n",
      "Epoch = 19, Loss = 3.09629448371775\n",
      "Age accuracy = 0.5324802582281399\tRace accuracy = 0.5634906911061156\tGender accuracy = 0.9110611562626088\n",
      "Age loss = 1.1185345649719238\tRace loss = 1.1512478590011597\tGender Loss = 0.2167665809392929\n",
      "End of Epoch: 19 \tTraining Loss: 2.9577460289001465 \tValidation Loss: 3.09629448371775\n",
      "Validation loss decreased (3.179964041008669 --> 3.09629448371775).  Saving model ...\n"
     ]
    },
    {
     "name": "stderr",
     "output_type": "stream",
     "text": [
      "100%|██████████| 272/272 [01:59<00:00,  2.27it/s]\n"
     ]
    },
    {
     "name": "stdout",
     "output_type": "stream",
     "text": [
      "Training step:\n",
      "Epoch = 20, Loss = 2.904902219772339\n",
      "Age accuracy = 0.5612940413574465\tRace accuracy = 0.5686288637509908\tGender accuracy = 0.9057713091721306\n",
      "Age loss = 1.0394723415374756\tRace loss = 1.0844252109527588\tGender Loss = 0.23307718336582184\n"
     ]
    },
    {
     "name": "stderr",
     "output_type": "stream",
     "text": [
      "100%|██████████| 68/68 [00:13<00:00,  5.08it/s]\n"
     ]
    },
    {
     "name": "stdout",
     "output_type": "stream",
     "text": [
      "Validation step:\n",
      "Epoch = 20, Loss = 3.120061986586627\n",
      "Age accuracy = 0.5213556977347398\tRace accuracy = 0.558648913482045\tGender accuracy = 0.9099659922762119\n",
      "Age loss = 1.1327097415924072\tRace loss = 1.1531870365142822\tGender Loss = 0.2174803465604782\n",
      "End of Epoch: 20 \tTraining Loss: 2.904902219772339 \tValidation Loss: 3.120061986586627\n"
     ]
    },
    {
     "name": "stderr",
     "output_type": "stream",
     "text": [
      "100%|██████████| 272/272 [01:59<00:00,  2.28it/s]\n"
     ]
    },
    {
     "name": "stdout",
     "output_type": "stream",
     "text": [
      "Training step:\n",
      "Epoch = 21, Loss = 2.9033727645874023\n",
      "Age accuracy = 0.567764248144679\tRace accuracy = 0.566582606816053\tGender accuracy = 0.9091433100367462\n",
      "Age loss = 1.0384111404418945\tRace loss = 1.0871773958206177\tGender Loss = 0.22351500391960144\n"
     ]
    },
    {
     "name": "stderr",
     "output_type": "stream",
     "text": [
      "100%|██████████| 68/68 [00:13<00:00,  5.07it/s]\n"
     ]
    },
    {
     "name": "stdout",
     "output_type": "stream",
     "text": [
      "Validation step:\n",
      "Epoch = 21, Loss = 3.1502097564585068\n",
      "Age accuracy = 0.5158222375929449\tRace accuracy = 0.56735258516341\tGender accuracy = 0.907775664303418\n",
      "Age loss = 1.1280993223190308\tRace loss = 1.181823968887329\tGender Loss = 0.22826305031776428\n",
      "End of Epoch: 21 \tTraining Loss: 2.9033727645874023 \tValidation Loss: 3.1502097564585068\n"
     ]
    },
    {
     "name": "stderr",
     "output_type": "stream",
     "text": [
      "100%|██████████| 272/272 [01:59<00:00,  2.27it/s]\n"
     ]
    },
    {
     "name": "stdout",
     "output_type": "stream",
     "text": [
      "Training step:\n",
      "Epoch = 22, Loss = 2.844259023666382\n",
      "Age accuracy = 0.5676345558037322\tRace accuracy = 0.58077671301967\tGender accuracy = 0.9115498234743137\n",
      "Age loss = 1.0238639116287231\tRace loss = 1.0564401149749756\tGender Loss = 0.2194756120443344\n"
     ]
    },
    {
     "name": "stderr",
     "output_type": "stream",
     "text": [
      "100%|██████████| 68/68 [00:13<00:00,  5.14it/s]\n"
     ]
    },
    {
     "name": "stdout",
     "output_type": "stream",
     "text": [
      "Validation step:\n",
      "Epoch = 22, Loss = 3.2207079775193157\n",
      "Age accuracy = 0.5191653697619459\tRace accuracy = 0.5533460141794916\tGender accuracy = 0.9087555478701943\n",
      "Age loss = 1.1491734981536865\tRace loss = 1.2127807140350342\tGender Loss = 0.23634593188762665\n",
      "End of Epoch: 22 \tTraining Loss: 2.844259023666382 \tValidation Loss: 3.2207079775193157\n"
     ]
    },
    {
     "name": "stderr",
     "output_type": "stream",
     "text": [
      "100%|██████████| 272/272 [01:59<00:00,  2.28it/s]\n"
     ]
    },
    {
     "name": "stdout",
     "output_type": "stream",
     "text": [
      "Training step:\n",
      "Epoch = 23, Loss = 2.805265188217163\n",
      "Age accuracy = 0.5756178399020102\tRace accuracy = 0.5824194826716622\tGender accuracy = 0.9138122343108294\n",
      "Age loss = 1.0076014995574951\tRace loss = 1.0457663536071777\tGender Loss = 0.21307682991027832\n"
     ]
    },
    {
     "name": "stderr",
     "output_type": "stream",
     "text": [
      "100%|██████████| 68/68 [00:13<00:00,  5.05it/s]\n"
     ]
    },
    {
     "name": "stdout",
     "output_type": "stream",
     "text": [
      "Validation step:\n",
      "Epoch = 23, Loss = 3.1247046449605156\n",
      "Age accuracy = 0.5014121851403539\tRace accuracy = 0.5757104155859127\tGender accuracy = 0.9108305954233673\n",
      "Age loss = 1.1494081020355225\tRace loss = 1.1355966329574585\tGender Loss = 0.21801377832889557\n",
      "End of Epoch: 23 \tTraining Loss: 2.805265188217163 \tValidation Loss: 3.1247046449605156\n"
     ]
    },
    {
     "name": "stderr",
     "output_type": "stream",
     "text": [
      "100%|██████████| 272/272 [02:00<00:00,  2.26it/s]\n"
     ]
    },
    {
     "name": "stdout",
     "output_type": "stream",
     "text": [
      "Training step:\n",
      "Epoch = 24, Loss = 2.7823379039764404\n",
      "Age accuracy = 0.5771453274731609\tRace accuracy = 0.589941638446574\tGender accuracy = 0.9170689530946033\n",
      "Age loss = 1.001802921295166\tRace loss = 1.035521388053894\tGender Loss = 0.20627950131893158\n"
     ]
    },
    {
     "name": "stderr",
     "output_type": "stream",
     "text": [
      "100%|██████████| 68/68 [00:13<00:00,  5.09it/s]\n"
     ]
    },
    {
     "name": "stdout",
     "output_type": "stream",
     "text": [
      "Validation step:\n",
      "Epoch = 24, Loss = 3.254746163592619\n",
      "Age accuracy = 0.5008934232520607\tRace accuracy = 0.5642976540434608\tGender accuracy = 0.9118681191999539\n",
      "Age loss = 1.2020381689071655\tRace loss = 1.1785070896148682\tGender Loss = 0.2207144796848297\n",
      "End of Epoch: 24 \tTraining Loss: 2.7823379039764404 \tValidation Loss: 3.254746163592619\n"
     ]
    },
    {
     "name": "stderr",
     "output_type": "stream",
     "text": [
      "100%|██████████| 272/272 [01:59<00:00,  2.27it/s]\n"
     ]
    },
    {
     "name": "stdout",
     "output_type": "stream",
     "text": [
      "Training step:\n",
      "Epoch = 25, Loss = 2.737941026687622\n",
      "Age accuracy = 0.5819871748685064\tRace accuracy = 0.5961236400317026\tGender accuracy = 0.9170113120541826\n",
      "Age loss = 0.9908017516136169\tRace loss = 1.0110602378845215\tGender Loss = 0.20847977697849274\n"
     ]
    },
    {
     "name": "stderr",
     "output_type": "stream",
     "text": [
      "100%|██████████| 68/68 [00:13<00:00,  5.13it/s]\n"
     ]
    },
    {
     "name": "stdout",
     "output_type": "stream",
     "text": [
      "Validation step:\n",
      "Epoch = 25, Loss = 3.1387354205636417\n",
      "Age accuracy = 0.5143812323476857\tRace accuracy = 0.5759986166349645\tGender accuracy = 0.9135396852844544\n",
      "Age loss = 1.1260977983474731\tRace loss = 1.1760646104812622\tGender Loss = 0.2230100929737091\n",
      "End of Epoch: 25 \tTraining Loss: 2.737941026687622 \tValidation Loss: 3.1387354205636417\n"
     ]
    },
    {
     "name": "stderr",
     "output_type": "stream",
     "text": [
      "100%|██████████| 272/272 [01:58<00:00,  2.30it/s]\n"
     ]
    },
    {
     "name": "stdout",
     "output_type": "stream",
     "text": [
      "Training step:\n",
      "Epoch = 26, Loss = 2.7060117721557617\n",
      "Age accuracy = 0.5860796887383817\tRace accuracy = 0.6057064630016572\tGender accuracy = 0.916968081273867\n",
      "Age loss = 0.9850267767906189\tRace loss = 0.991905689239502\tGender Loss = 0.20588624477386475\n"
     ]
    },
    {
     "name": "stderr",
     "output_type": "stream",
     "text": [
      "100%|██████████| 68/68 [00:13<00:00,  5.10it/s]\n"
     ]
    },
    {
     "name": "stdout",
     "output_type": "stream",
     "text": [
      "Validation step:\n",
      "Epoch = 26, Loss = 3.0817688247736763\n",
      "Age accuracy = 0.5219320998328434\tRace accuracy = 0.5784195054469998\tGender accuracy = 0.9151536111591446\n",
      "Age loss = 1.1142442226409912\tRace loss = 1.1438847780227661\tGender Loss = 0.21835681796073914\n",
      "End of Epoch: 26 \tTraining Loss: 2.7060117721557617 \tValidation Loss: 3.0817688247736763\n",
      "Validation loss decreased (3.09629448371775 --> 3.0817688247736763).  Saving model ...\n"
     ]
    },
    {
     "name": "stderr",
     "output_type": "stream",
     "text": [
      "100%|██████████| 272/272 [01:58<00:00,  2.30it/s]\n"
     ]
    },
    {
     "name": "stdout",
     "output_type": "stream",
     "text": [
      "Training step:\n",
      "Epoch = 27, Loss = 2.6928441524505615\n",
      "Age accuracy = 0.590835074573096\tRace accuracy = 0.6097413358311118\tGender accuracy = 0.9201383384970099\n",
      "Age loss = 0.9771080017089844\tRace loss = 0.991317868232727\tGender Loss = 0.20406341552734375\n"
     ]
    },
    {
     "name": "stderr",
     "output_type": "stream",
     "text": [
      "100%|██████████| 68/68 [00:13<00:00,  5.09it/s]\n"
     ]
    },
    {
     "name": "stdout",
     "output_type": "stream",
     "text": [
      "Validation step:\n",
      "Epoch = 27, Loss = 3.2827658653259277\n",
      "Age accuracy = 0.48878897919188424\tRace accuracy = 0.5602051991469249\tGender accuracy = 0.9152688915787653\n",
      "Age loss = 1.1871951818466187\tRace loss = 1.2210235595703125\tGender Loss = 0.2223483920097351\n",
      "End of Epoch: 27 \tTraining Loss: 2.6928441524505615 \tValidation Loss: 3.2827658653259277\n"
     ]
    },
    {
     "name": "stderr",
     "output_type": "stream",
     "text": [
      "100%|██████████| 272/272 [01:59<00:00,  2.28it/s]\n"
     ]
    },
    {
     "name": "stdout",
     "output_type": "stream",
     "text": [
      "Training step:\n",
      "Epoch = 28, Loss = 2.7023732662200928\n",
      "Age accuracy = 0.589869587146048\tRace accuracy = 0.5969450248576987\tGender accuracy = 0.9171698249153397\n",
      "Age loss = 0.9713695645332336\tRace loss = 1.0053313970565796\tGender Loss = 0.20933640003204346\n"
     ]
    },
    {
     "name": "stderr",
     "output_type": "stream",
     "text": [
      "100%|██████████| 68/68 [00:13<00:00,  5.15it/s]\n"
     ]
    },
    {
     "name": "stdout",
     "output_type": "stream",
     "text": [
      "Validation step:\n",
      "Epoch = 28, Loss = 3.210840540773728\n",
      "Age accuracy = 0.4998558994754741\tRace accuracy = 0.5729436855150153\tGender accuracy = 0.9160758545161104\n",
      "Age loss = 1.1745805740356445\tRace loss = 1.1764987707138062\tGender Loss = 0.21959520876407623\n",
      "End of Epoch: 28 \tTraining Loss: 2.7023732662200928 \tValidation Loss: 3.210840540773728\n"
     ]
    },
    {
     "name": "stderr",
     "output_type": "stream",
     "text": [
      "100%|██████████| 272/272 [01:58<00:00,  2.29it/s]\n"
     ]
    },
    {
     "name": "stdout",
     "output_type": "stream",
     "text": [
      "Training step:\n",
      "Epoch = 29, Loss = 2.655215263366699\n",
      "Age accuracy = 0.5901866128683623\tRace accuracy = 0.6151019525902442\tGender accuracy = 0.9194466460119605\n",
      "Age loss = 0.9685518741607666\tRace loss = 0.9708058834075928\tGender Loss = 0.201651468873024\n"
     ]
    },
    {
     "name": "stderr",
     "output_type": "stream",
     "text": [
      "100%|██████████| 68/68 [00:13<00:00,  5.17it/s]\n"
     ]
    },
    {
     "name": "stdout",
     "output_type": "stream",
     "text": [
      "Validation step:\n",
      "Epoch = 29, Loss = 3.1452666766503277\n",
      "Age accuracy = 0.5289642054297078\tRace accuracy = 0.5713873998501354\tGender accuracy = 0.9156723730474379\n",
      "Age loss = 1.117645263671875\tRace loss = 1.1916743516921997\tGender Loss = 0.22587844729423523\n",
      "End of Epoch: 29 \tTraining Loss: 2.655215263366699 \tValidation Loss: 3.1452666766503277\n"
     ]
    },
    {
     "name": "stderr",
     "output_type": "stream",
     "text": [
      "100%|██████████| 272/272 [01:59<00:00,  2.28it/s]\n"
     ]
    },
    {
     "name": "stdout",
     "output_type": "stream",
     "text": [
      "Training step:\n",
      "Epoch = 30, Loss = 2.6072580814361572\n",
      "Age accuracy = 0.6009510771669428\tRace accuracy = 0.6198717486850638\tGender accuracy = 0.9221701851718423\n",
      "Age loss = 0.9494227170944214\tRace loss = 0.9565168023109436\tGender Loss = 0.19393636286258698\n"
     ]
    },
    {
     "name": "stderr",
     "output_type": "stream",
     "text": [
      "100%|██████████| 68/68 [00:13<00:00,  5.11it/s]\n"
     ]
    },
    {
     "name": "stdout",
     "output_type": "stream",
     "text": [
      "Validation step:\n",
      "Epoch = 30, Loss = 3.2111832779996536\n",
      "Age accuracy = 0.49167098968240247\tRace accuracy = 0.5753645743270506\tGender accuracy = 0.9167098968240245\n",
      "Age loss = 1.1958345174789429\tRace loss = 1.1504484415054321\tGender Loss = 0.21638435125350952\n",
      "End of Epoch: 30 \tTraining Loss: 2.6072580814361572 \tValidation Loss: 3.2111832779996536\n"
     ]
    },
    {
     "name": "stderr",
     "output_type": "stream",
     "text": [
      "100%|██████████| 272/272 [01:59<00:00,  2.27it/s]\n"
     ]
    },
    {
     "name": "stdout",
     "output_type": "stream",
     "text": [
      "Training step:\n",
      "Epoch = 31, Loss = 2.5952513217926025\n",
      "Age accuracy = 0.5996397434973701\tRace accuracy = 0.6272209813387132\tGender accuracy = 0.9249369551120398\n",
      "Age loss = 0.9509212374687195\tRace loss = 0.9453868865966797\tGender Loss = 0.1902073472738266\n"
     ]
    },
    {
     "name": "stderr",
     "output_type": "stream",
     "text": [
      "100%|██████████| 68/68 [00:13<00:00,  5.22it/s]\n"
     ]
    },
    {
     "name": "stdout",
     "output_type": "stream",
     "text": [
      "Validation step:\n",
      "Epoch = 31, Loss = 3.1514349334380207\n",
      "Age accuracy = 0.5084442907372183\tRace accuracy = 0.5725402040463428\tGender accuracy = 0.9160182143063\n",
      "Age loss = 1.152979850769043\tRace loss = 1.1536633968353271\tGender Loss = 0.21872487664222717\n",
      "End of Epoch: 31 \tTraining Loss: 2.5952513217926025 \tValidation Loss: 3.1514349334380207\n"
     ]
    },
    {
     "name": "stderr",
     "output_type": "stream",
     "text": [
      "100%|██████████| 272/272 [01:58<00:00,  2.29it/s]\n"
     ]
    },
    {
     "name": "stdout",
     "output_type": "stream",
     "text": [
      "Training step:\n",
      "Epoch = 32, Loss = 2.6117355823516846\n",
      "Age accuracy = 0.6018589235535702\tRace accuracy = 0.6237769291735716\tGender accuracy = 0.9239858779450969\n",
      "Age loss = 0.9485101103782654\tRace loss = 0.9622488617897034\tGender Loss = 0.1913316249847412\n"
     ]
    },
    {
     "name": "stderr",
     "output_type": "stream",
     "text": [
      "100%|██████████| 68/68 [00:14<00:00,  4.80it/s]\n"
     ]
    },
    {
     "name": "stdout",
     "output_type": "stream",
     "text": [
      "Validation step:\n",
      "Epoch = 32, Loss = 3.1276712627971874\n",
      "Age accuracy = 0.5260245547293793\tRace accuracy = 0.5590523949507176\tGender accuracy = 0.9085249870309527\n",
      "Age loss = 1.1347124576568604\tRace loss = 1.153586506843567\tGender Loss = 0.23002108931541443\n",
      "End of Epoch: 32 \tTraining Loss: 2.6117355823516846 \tValidation Loss: 3.1276712627971874\n"
     ]
    },
    {
     "name": "stderr",
     "output_type": "stream",
     "text": [
      "100%|██████████| 272/272 [01:58<00:00,  2.29it/s]\n"
     ]
    },
    {
     "name": "stdout",
     "output_type": "stream",
     "text": [
      "Training step:\n",
      "Epoch = 33, Loss = 2.722545862197876\n",
      "Age accuracy = 0.5747532242956985\tRace accuracy = 0.6144246703653001\tGender accuracy = 0.915267670581454\n",
      "Age loss = 1.006879448890686\tRace loss = 0.9769275784492493\tGender Loss = 0.2097621113061905\n"
     ]
    },
    {
     "name": "stderr",
     "output_type": "stream",
     "text": [
      "100%|██████████| 68/68 [00:13<00:00,  5.10it/s]\n"
     ]
    },
    {
     "name": "stdout",
     "output_type": "stream",
     "text": [
      "Validation step:\n",
      "Epoch = 33, Loss = 3.205469822182375\n",
      "Age accuracy = 0.506657444233097\tRace accuracy = 0.5830883624416393\tGender accuracy = 0.9171710185025074\n",
      "Age loss = 1.155659556388855\tRace loss = 1.1958280801773071\tGender Loss = 0.22079285979270935\n",
      "End of Epoch: 33 \tTraining Loss: 2.722545862197876 \tValidation Loss: 3.205469822182375\n"
     ]
    },
    {
     "name": "stderr",
     "output_type": "stream",
     "text": [
      "100%|██████████| 272/272 [01:59<00:00,  2.28it/s]\n"
     ]
    },
    {
     "name": "stdout",
     "output_type": "stream",
     "text": [
      "Training step:\n",
      "Epoch = 34, Loss = 2.5579891204833984\n",
      "Age accuracy = 0.6049138986958714\tRace accuracy = 0.6356509835002522\tGender accuracy = 0.9255854168167735\n",
      "Age loss = 0.9438439607620239\tRace loss = 0.9221636056900024\tGender Loss = 0.1917928159236908\n"
     ]
    },
    {
     "name": "stderr",
     "output_type": "stream",
     "text": [
      "100%|██████████| 68/68 [00:13<00:00,  5.11it/s]\n"
     ]
    },
    {
     "name": "stdout",
     "output_type": "stream",
     "text": [
      "Validation step:\n",
      "Epoch = 34, Loss = 3.3514717712121853\n",
      "Age accuracy = 0.4944953599631103\tRace accuracy = 0.5919073145426249\tGender accuracy = 0.9076603838837973\n",
      "Age loss = 1.2168776988983154\tRace loss = 1.2345738410949707\tGender Loss = 0.24758777022361755\n",
      "End of Epoch: 34 \tTraining Loss: 2.5579891204833984 \tValidation Loss: 3.3514717712121853\n"
     ]
    }
   ],
   "source": [
    "# map ages\n",
    "mappings = {'age_map' : utils.get_mappings(age_dict),\n",
    "            'gender_map' : utils.get_mappings(gender_dict),\n",
    "            'race_map' : utils.get_mappings(race_dict)}\n",
    "\n",
    "\n",
    "class_dicts = {'age' : age_dict, \n",
    "               'race' : race_dict, \n",
    "               'gender': gender_dict}\n",
    "# train the model\n",
    "best_model = train.train_model(model, criterion, \n",
    "                               optimizer, scheduler_lr=scheduler, \n",
    "                               device=device, loaders=[train_loader, test_loader],\n",
    "                               tensor_writer=writer, mappings=mappings, class_dicts=class_dicts,\n",
    "                               class_weights=class_weights, n_epochs=35)"
   ]
  },
  {
   "cell_type": "code",
   "execution_count": 14,
   "metadata": {},
   "outputs": [],
   "source": [
    "best_dir = Path('../models/best_model/best_model.pt')\n",
    "model, optimizer, epoch = utils.load_ckp(best_dir, model, optimizer)\n",
    "model = model.to(device)\n"
   ]
  },
  {
   "cell_type": "code",
   "execution_count": 15,
   "metadata": {},
   "outputs": [
    {
     "name": "stderr",
     "output_type": "stream",
     "text": [
      "100%|██████████| 43/43 [00:08<00:00,  5.10it/s]\n"
     ]
    },
    {
     "data": {
      "image/png": "[encoded data removed]",
      "text/plain": [
       "<Figure size 2400x500 with 6 Axes>"
      ]
     },
     "metadata": {},
     "output_type": "display_data"
    }
   ],
   "source": [
    "mappings = {'age_map' : utils.get_mappings(age_dict),\n",
    "            'gender_map' : utils.get_mappings(gender_dict),\n",
    "            'race_map' : utils.get_mappings(race_dict)}\n",
    "\n",
    "ages, genders, races = metrics.build_confusion_matrix(model, val_loader, mappings, device=device)"
   ]
  },
  {
   "cell_type": "code",
   "execution_count": 16,
   "metadata": {},
   "outputs": [
    {
     "name": "stderr",
     "output_type": "stream",
     "text": [
      "100%|██████████| 43/43 [00:08<00:00,  5.04it/s]\n"
     ]
    },
    {
     "data": {
      "text/html": [
       "<div>\n",
       "<style scoped>\n",
       "    .dataframe tbody tr th:only-of-type {\n",
       "        vertical-align: middle;\n",
       "    }\n",
       "\n",
       "    .dataframe tbody tr th {\n",
       "        vertical-align: top;\n",
       "    }\n",
       "\n",
       "    .dataframe thead th {\n",
       "        text-align: right;\n",
       "    }\n",
       "</style>\n",
       "<table border=\"1\" class=\"dataframe\">\n",
       "  <thead>\n",
       "    <tr style=\"text-align: right;\">\n",
       "      <th></th>\n",
       "      <th>accuracy</th>\n",
       "      <th>precision</th>\n",
       "      <th>recall</th>\n",
       "      <th>f1</th>\n",
       "    </tr>\n",
       "  </thead>\n",
       "  <tbody>\n",
       "    <tr>\n",
       "      <th>age</th>\n",
       "      <td>0.523462</td>\n",
       "      <td>0.513224</td>\n",
       "      <td>0.541957</td>\n",
       "      <td>0.520296</td>\n",
       "    </tr>\n",
       "    <tr>\n",
       "      <th>gender</th>\n",
       "      <td>0.914187</td>\n",
       "      <td>0.914090</td>\n",
       "      <td>0.913659</td>\n",
       "      <td>0.913859</td>\n",
       "    </tr>\n",
       "    <tr>\n",
       "      <th>race</th>\n",
       "      <td>0.577597</td>\n",
       "      <td>0.601947</td>\n",
       "      <td>0.583426</td>\n",
       "      <td>0.579286</td>\n",
       "    </tr>\n",
       "  </tbody>\n",
       "</table>\n",
       "</div>"
      ],
      "text/plain": [
       "        accuracy  precision    recall        f1\n",
       "age     0.523462   0.513224  0.541957  0.520296\n",
       "gender  0.914187   0.914090  0.913659  0.913859\n",
       "race    0.577597   0.601947  0.583426  0.579286"
      ]
     },
     "execution_count": 16,
     "metadata": {},
     "output_type": "execute_result"
    }
   ],
   "source": [
    "metrics.calc_measures(model, val_loader, device)"
   ]
  },
  {
   "cell_type": "code",
   "execution_count": 19,
   "metadata": {},
   "outputs": [
    {
     "name": "stderr",
     "output_type": "stream",
     "text": [
      "100%|██████████| 43/43 [00:08<00:00,  5.12it/s]\n"
     ]
    }
   ],
   "source": [
    "def get_mismatched_classes(model, loader, true_cat, pred_cat, dictionary, output_class, device):\n",
    "    \"\"\"Gets the mismatched images for the given model, loader, true category, predicted category, dictionary, output class, and device.\n",
    "\n",
    "    Args:\n",
    "        model: The model to evaluate.\n",
    "        loader: The loader to use to load the data.\n",
    "        true_cat: The true category.\n",
    "        pred_cat: The predicted category.\n",
    "        dictionary: A dictionary mapping category names to indices.\n",
    "        output_class: The output class.\n",
    "        device: The device to use.\n",
    "\n",
    "    Returns:\n",
    "        A list of mismatched images.\n",
    "    \"\"\"\n",
    "    # Initialize a list to store the mismatched images.\n",
    "    mismatched_img = []\n",
    "    # Set the model to evaluation mode.\n",
    "    model.eval()\n",
    "    # Iterate over the loader.\n",
    "    with torch.no_grad():   \n",
    "          \n",
    "        for batch in tqdm(loader):\n",
    "            # Move the images and labels to the device.\n",
    "            image = batch['image'].to(device)\n",
    "            age = batch[output_class].to(device)\n",
    "            # Make a prediction.\n",
    "            output = model(image)\n",
    "\n",
    "            # Get the predicted class.\n",
    "            _, predicted = torch.max(torch.softmax(output[f'{output_class}_pred'].data, dim=1), 1)\n",
    "            # Iterate over the true and predicted classes.\n",
    "            for true, pred, img in zip(age, predicted, image):\n",
    "                # If the true and predicted categories are not the same, add the image to the list of mismatched images.\n",
    "                if dictionary[true_cat] == int(true) and dictionary[pred_cat] == int(pred):\n",
    "                    mismatched_img.append(img)\n",
    "                    \n",
    "    # Return the list of mismatched images.\n",
    "    return mismatched_img\n",
    "\n",
    "true_cat = '50-59'\n",
    "pred_cat = '40-49'\n",
    "mism_imgs = get_mismatched_classes(model, val_loader, true_cat, pred_cat, age_dict, 'age', device)\n",
    "mism_imgs = [i.cpu() for i in mism_imgs]"
   ]
  },
  {
   "cell_type": "code",
   "execution_count": 20,
   "metadata": {},
   "outputs": [
    {
     "name": "stderr",
     "output_type": "stream",
     "text": [
      "100%|██████████| 286/286 [00:12<00:00, 22.85it/s]\n"
     ]
    }
   ],
   "source": [
    "import matplotlib.pyplot as plt\n",
    "\n",
    "import torchvision.transforms.functional as F\n",
    "\n",
    "\n",
    "plt.rcParams[\"savefig.bbox\"] = 'tight'\n",
    "\n",
    "class Unnormalize(nn.Module):\n",
    "    def __init__(self, mean, std):\n",
    "        super(Unnormalize, self).__init__()\n",
    "        self.mean = torch.tensor(mean)\n",
    "        self.std = torch.tensor(std)\n",
    "\n",
    "    def forward(self, x):\n",
    "        return self.unnormalize(x)\n",
    "\n",
    "    def unnormalize(self, x):\n",
    "        # Assuming x is a PyTorch tensor\n",
    "        return x * self.std[None, :, None, None] + self.mean[None, :, None, None]\n",
    "\n",
    "def show(imgs, true_cat, pred_cat):\n",
    "    if not os.path.exists('../mismatched'):\n",
    "        os.mkdir('../mismatched')\n",
    "        \n",
    "    img_batch = []\n",
    "    cur_batch = 1\n",
    "    if not isinstance(imgs, list):\n",
    "        imgs = [imgs]\n",
    "    for i, img in enumerate(tqdm(imgs)):\n",
    "        img = np.array(img).transpose(1, 2, 0)\n",
    "        img_batch.append(img)\n",
    "        \n",
    "        if (i + 1) % 20 == 0:\n",
    "            fig = plt.figure(figsize=(8, 8))\n",
    "            plt.title(f'True category = {true_cat}; Mismatched one = {pred_cat}')\n",
    "            columns = 4\n",
    "            rows = 5\n",
    "            for i in range(1, columns*rows + 1):\n",
    "                img = img_batch[i - 1]\n",
    "                ax = fig.add_subplot(rows, columns, i)\n",
    "                ax.set_axis_off()\n",
    "                plt.imshow(img)\n",
    "            fig.set_tight_layout(tight=True)\n",
    "            fig.savefig(f'../mismatched/mismatched_age_number_{cur_batch}.png')\n",
    "            plt.close()\n",
    "\n",
    "            cur_batch += 1\n",
    "            img_batch = []\n",
    "\n",
    "# Example Usage:\n",
    "mean = [0.485, 0.456, 0.406]  # Replace with your actual mean values\n",
    "std = [0.229, 0.224, 0.225]   # Replace with your actual standard deviation values\n",
    "\n",
    "# Create an instance of Unnormalize\n",
    "unnormalize = Unnormalize(mean=mean, std=std)\n",
    "show([unnormalize(i).squeeze(0) for i in mism_imgs], true_cat, pred_cat)"
   ]
  },
  {
   "cell_type": "code",
   "execution_count": null,
   "metadata": {},
   "outputs": [],
   "source": []
  }
 ],
 "metadata": {
  "kernelspec": {
   "display_name": "poetry-root-env",
   "language": "python",
   "name": "poetry-root-env"
  },
  "language_info": {
   "codemirror_mode": {
    "name": "ipython",
    "version": 3
   },
   "file_extension": ".py",
   "mimetype": "text/x-python",
   "name": "python",
   "nbconvert_exporter": "python",
   "pygments_lexer": "ipython3",
   "version": "3.10.13"
  }
 },
 "nbformat": 4,
 "nbformat_minor": 4
}
