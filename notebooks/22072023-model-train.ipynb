{
 "cells": [
  {
   "cell_type": "code",
   "execution_count": 1,
   "metadata": {},
   "outputs": [],
   "source": [
    "import numpy as np\n",
    "import pandas as pd\n",
    "import matplotlib.pyplot as plt\n",
    "import os\n",
    "\n",
    "import json\n",
    "\n",
    "import torchvision\n",
    "import torch\n",
    "\n",
    "from pathlib import Path\n",
    "from PIL import Image\n",
    "from pprint import pprint\n",
    "from tqdm import tqdm\n",
    "\n",
    "from torch import nn, optim\n",
    "from torchvision.models import mobilenet_v3_large\n",
    "from torchvision import transforms\n",
    "from torch.utils.data import DataLoader\n",
    "from torch.optim import lr_scheduler\n",
    "from torch.utils.tensorboard import SummaryWriter\n",
    "from torch.utils.data import WeightedRandomSampler\n",
    "\n",
    "# custom imports\n",
    "from fairface_classification import data, model, utils, metrics\n",
    "\n",
    "# launch tensorboard writer\n",
    "writer = SummaryWriter('../runs/fairface/')\n",
    "\n",
    "utils.set_random_seed(42)\n",
    "\n",
    "%matplotlib inline\n",
    "%load_ext autoreload\n",
    "%autoreload 2"
   ]
  },
  {
   "cell_type": "markdown",
   "metadata": {},
   "source": [
    "### The following is the model architecture I am going to train on FairFace Dataset\n",
    "\n",
    "Almost the whole model and its architecture - Mobile Net V3 Large pretrained on ImageNet dataset. The last layer is modified and adapted to current FairFace dataset. There are just 3 classes that should predicted at the same time, so the last layer of the model will have three \"heads\"."
   ]
  },
  {
   "cell_type": "code",
   "execution_count": 2,
   "metadata": {},
   "outputs": [],
   "source": [
    "show_pic = False\n",
    "\n",
    "if show_pic:\n",
    "    Image.open('../model_architecture.png')"
   ]
  },
  {
   "cell_type": "code",
   "execution_count": 3,
   "metadata": {},
   "outputs": [
    {
     "data": {
      "text/html": [
       "<div>\n",
       "<style scoped>\n",
       "    .dataframe tbody tr th:only-of-type {\n",
       "        vertical-align: middle;\n",
       "    }\n",
       "\n",
       "    .dataframe tbody tr th {\n",
       "        vertical-align: top;\n",
       "    }\n",
       "\n",
       "    .dataframe thead th {\n",
       "        text-align: right;\n",
       "    }\n",
       "</style>\n",
       "<table border=\"1\" class=\"dataframe\">\n",
       "  <thead>\n",
       "    <tr style=\"text-align: right;\">\n",
       "      <th></th>\n",
       "      <th>file</th>\n",
       "      <th>age</th>\n",
       "      <th>gender</th>\n",
       "      <th>race</th>\n",
       "      <th>service_test</th>\n",
       "    </tr>\n",
       "  </thead>\n",
       "  <tbody>\n",
       "    <tr>\n",
       "      <th>0</th>\n",
       "      <td>train/1.jpg</td>\n",
       "      <td>50-59</td>\n",
       "      <td>Male</td>\n",
       "      <td>East Asian</td>\n",
       "      <td>True</td>\n",
       "    </tr>\n",
       "    <tr>\n",
       "      <th>1</th>\n",
       "      <td>train/2.jpg</td>\n",
       "      <td>30-39</td>\n",
       "      <td>Female</td>\n",
       "      <td>Indian</td>\n",
       "      <td>False</td>\n",
       "    </tr>\n",
       "    <tr>\n",
       "      <th>2</th>\n",
       "      <td>train/3.jpg</td>\n",
       "      <td>3-9</td>\n",
       "      <td>Female</td>\n",
       "      <td>Black</td>\n",
       "      <td>False</td>\n",
       "    </tr>\n",
       "    <tr>\n",
       "      <th>3</th>\n",
       "      <td>train/4.jpg</td>\n",
       "      <td>20-29</td>\n",
       "      <td>Female</td>\n",
       "      <td>Indian</td>\n",
       "      <td>True</td>\n",
       "    </tr>\n",
       "    <tr>\n",
       "      <th>4</th>\n",
       "      <td>train/5.jpg</td>\n",
       "      <td>20-29</td>\n",
       "      <td>Female</td>\n",
       "      <td>Indian</td>\n",
       "      <td>True</td>\n",
       "    </tr>\n",
       "  </tbody>\n",
       "</table>\n",
       "</div>"
      ],
      "text/plain": [
       "          file    age  gender        race  service_test\n",
       "0  train/1.jpg  50-59    Male  East Asian          True\n",
       "1  train/2.jpg  30-39  Female      Indian         False\n",
       "2  train/3.jpg    3-9  Female       Black         False\n",
       "3  train/4.jpg  20-29  Female      Indian          True\n",
       "4  train/5.jpg  20-29  Female      Indian          True"
      ]
     },
     "execution_count": 3,
     "metadata": {},
     "output_type": "execute_result"
    }
   ],
   "source": [
    "train_label = pd.read_csv('../data/fairface_label_train.csv')\n",
    "mobilenet = mobilenet_v3_large(weights='IMAGENET1K_V1')\n",
    "train_label.head()"
   ]
  },
  {
   "cell_type": "markdown",
   "metadata": {},
   "source": [
    "### Initialize Dataset and Dataloader"
   ]
  },
  {
   "cell_type": "code",
   "execution_count": 4,
   "metadata": {},
   "outputs": [
    {
     "name": "stdout",
     "output_type": "stream",
     "text": [
      "{'age': {'0-2': 0,\n",
      "         '10-19': 2,\n",
      "         '20-29': 3,\n",
      "         '3-9': 1,\n",
      "         '30-39': 4,\n",
      "         '40-49': 5,\n",
      "         '50-59': 6,\n",
      "         '60-69': 7,\n",
      "         'more than 70': 8},\n",
      " 'gender': {'Female': 1, 'Male': 0},\n",
      " 'race': {'Black': 4,\n",
      "          'East Asian': 3,\n",
      "          'Indian': 2,\n",
      "          'Latino_Hispanic': 1,\n",
      "          'Middle Eastern': 6,\n",
      "          'Southeast Asian': 5,\n",
      "          'White': 0}}\n"
     ]
    }
   ],
   "source": [
    "race_dict = data.read_json('../data/encodings/race_encoding.json')\n",
    "gender_dict = data.read_json('../data/encodings/gender_encoding.json')\n",
    "age_dict = data.read_json('../data/encodings/age_encoding.json')\n",
    "\n",
    "encoders = {'race' : race_dict, 'age' : age_dict, 'gender' : gender_dict}\n",
    "pprint(encoders)"
   ]
  },
  {
   "cell_type": "code",
   "execution_count": 5,
   "metadata": {},
   "outputs": [
    {
     "name": "stdout",
     "output_type": "stream",
     "text": [
      "       age: 1.50\n",
      "      race: 1.17\n",
      "    gender: 0.33\n"
     ]
    }
   ],
   "source": [
    "train_samples = json.load(open('../train_test_val.json'))['train']\n",
    "label_train_test = pd.read_csv('../data/fairface_label_train.csv')\n",
    "\n",
    "class_weights = utils.calc_tasks_weight({'age' : age_dict, 'gender' : gender_dict, 'race' : race_dict})\n",
    "train_labels = utils.calc_category_weights(train_samples, label_train_test, {'age_dict' : age_dict, 'race_dict' : race_dict, 'gender_dict' : gender_dict})"
   ]
  },
  {
   "cell_type": "code",
   "execution_count": 6,
   "metadata": {},
   "outputs": [
    {
     "data": {
      "text/html": [
       "<div>\n",
       "<style scoped>\n",
       "    .dataframe tbody tr th:only-of-type {\n",
       "        vertical-align: middle;\n",
       "    }\n",
       "\n",
       "    .dataframe tbody tr th {\n",
       "        vertical-align: top;\n",
       "    }\n",
       "\n",
       "    .dataframe thead th {\n",
       "        text-align: right;\n",
       "    }\n",
       "</style>\n",
       "<table border=\"1\" class=\"dataframe\">\n",
       "  <thead>\n",
       "    <tr style=\"text-align: right;\">\n",
       "      <th></th>\n",
       "      <th>file</th>\n",
       "      <th>age</th>\n",
       "      <th>gender</th>\n",
       "      <th>race</th>\n",
       "      <th>age_weight</th>\n",
       "      <th>gender_weight</th>\n",
       "      <th>race_weight</th>\n",
       "      <th>total_weight</th>\n",
       "      <th>group</th>\n",
       "      <th>count</th>\n",
       "      <th>group_weight</th>\n",
       "    </tr>\n",
       "  </thead>\n",
       "  <tbody>\n",
       "    <tr>\n",
       "      <th>0</th>\n",
       "      <td>train/1.jpg</td>\n",
       "      <td>6</td>\n",
       "      <td>0</td>\n",
       "      <td>3</td>\n",
       "      <td>0.000202</td>\n",
       "      <td>0.000027</td>\n",
       "      <td>0.000102</td>\n",
       "      <td>0.000330</td>\n",
       "      <td>603</td>\n",
       "      <td>272</td>\n",
       "      <td>0.003676</td>\n",
       "    </tr>\n",
       "    <tr>\n",
       "      <th>1</th>\n",
       "      <td>train/2.jpg</td>\n",
       "      <td>4</td>\n",
       "      <td>1</td>\n",
       "      <td>2</td>\n",
       "      <td>0.000065</td>\n",
       "      <td>0.000031</td>\n",
       "      <td>0.000102</td>\n",
       "      <td>0.000197</td>\n",
       "      <td>412</td>\n",
       "      <td>931</td>\n",
       "      <td>0.001074</td>\n",
       "    </tr>\n",
       "    <tr>\n",
       "      <th>2</th>\n",
       "      <td>train/4.jpg</td>\n",
       "      <td>3</td>\n",
       "      <td>1</td>\n",
       "      <td>2</td>\n",
       "      <td>0.000049</td>\n",
       "      <td>0.000031</td>\n",
       "      <td>0.000102</td>\n",
       "      <td>0.000181</td>\n",
       "      <td>312</td>\n",
       "      <td>1347</td>\n",
       "      <td>0.000742</td>\n",
       "    </tr>\n",
       "    <tr>\n",
       "      <th>3</th>\n",
       "      <td>train/5.jpg</td>\n",
       "      <td>3</td>\n",
       "      <td>1</td>\n",
       "      <td>2</td>\n",
       "      <td>0.000049</td>\n",
       "      <td>0.000031</td>\n",
       "      <td>0.000102</td>\n",
       "      <td>0.000181</td>\n",
       "      <td>312</td>\n",
       "      <td>1347</td>\n",
       "      <td>0.000742</td>\n",
       "    </tr>\n",
       "    <tr>\n",
       "      <th>4</th>\n",
       "      <td>train/7.jpg</td>\n",
       "      <td>5</td>\n",
       "      <td>0</td>\n",
       "      <td>6</td>\n",
       "      <td>0.000116</td>\n",
       "      <td>0.000027</td>\n",
       "      <td>0.000136</td>\n",
       "      <td>0.000279</td>\n",
       "      <td>506</td>\n",
       "      <td>961</td>\n",
       "      <td>0.001041</td>\n",
       "    </tr>\n",
       "  </tbody>\n",
       "</table>\n",
       "</div>"
      ],
      "text/plain": [
       "          file  age  gender  race  age_weight  gender_weight  race_weight  \\\n",
       "0  train/1.jpg    6       0     3    0.000202       0.000027     0.000102   \n",
       "1  train/2.jpg    4       1     2    0.000065       0.000031     0.000102   \n",
       "2  train/4.jpg    3       1     2    0.000049       0.000031     0.000102   \n",
       "3  train/5.jpg    3       1     2    0.000049       0.000031     0.000102   \n",
       "4  train/7.jpg    5       0     6    0.000116       0.000027     0.000136   \n",
       "\n",
       "   total_weight group  count  group_weight  \n",
       "0      0.000330   603    272      0.003676  \n",
       "1      0.000197   412    931      0.001074  \n",
       "2      0.000181   312   1347      0.000742  \n",
       "3      0.000181   312   1347      0.000742  \n",
       "4      0.000279   506    961      0.001041  "
      ]
     },
     "execution_count": 6,
     "metadata": {},
     "output_type": "execute_result"
    }
   ],
   "source": [
    "def group_class_weight(labels):\n",
    "    \"\"\"\n",
    "    It is another way of calculation of image weight for oversampling technique.\n",
    "\n",
    "    Args:\n",
    "        labels: pd.DataFrame - dataframe with filenames and its labels.\n",
    "    Returns:\n",
    "        labels: pd.DataFrame - dataframe with calculated weights for every file and its labels.\n",
    "    \"\"\"\n",
    "\n",
    "    labels['group'] = labels.apply(lambda x: f'{x[\"age\"]}{x[\"gender\"]}{x[\"race\"]}', axis=1)\n",
    "    group_vc = labels['group'].value_counts()\n",
    "    group_counts = group_vc.to_frame().reset_index()\n",
    "    labels = labels.merge(group_counts, on='group', how='left') \n",
    "    labels['group_weight'] = 1 / labels['count']\n",
    "    return labels\n",
    "\n",
    "train_labels = group_class_weight(train_labels)\n",
    "train_labels.head()"
   ]
  },
  {
   "cell_type": "code",
   "execution_count": 7,
   "metadata": {},
   "outputs": [
    {
     "data": {
      "text/html": [
       "<div>\n",
       "<style scoped>\n",
       "    .dataframe tbody tr th:only-of-type {\n",
       "        vertical-align: middle;\n",
       "    }\n",
       "\n",
       "    .dataframe tbody tr th {\n",
       "        vertical-align: top;\n",
       "    }\n",
       "\n",
       "    .dataframe thead th {\n",
       "        text-align: right;\n",
       "    }\n",
       "</style>\n",
       "<table border=\"1\" class=\"dataframe\">\n",
       "  <thead>\n",
       "    <tr style=\"text-align: right;\">\n",
       "      <th></th>\n",
       "      <th>file</th>\n",
       "      <th>age</th>\n",
       "      <th>gender</th>\n",
       "      <th>race</th>\n",
       "      <th>group</th>\n",
       "      <th>count</th>\n",
       "      <th>group_weight</th>\n",
       "    </tr>\n",
       "  </thead>\n",
       "  <tbody>\n",
       "    <tr>\n",
       "      <th>0</th>\n",
       "      <td>train/1.jpg</td>\n",
       "      <td>6</td>\n",
       "      <td>0</td>\n",
       "      <td>3</td>\n",
       "      <td>603</td>\n",
       "      <td>272</td>\n",
       "      <td>0.003676</td>\n",
       "    </tr>\n",
       "    <tr>\n",
       "      <th>1</th>\n",
       "      <td>train/2.jpg</td>\n",
       "      <td>4</td>\n",
       "      <td>1</td>\n",
       "      <td>2</td>\n",
       "      <td>412</td>\n",
       "      <td>931</td>\n",
       "      <td>0.001074</td>\n",
       "    </tr>\n",
       "    <tr>\n",
       "      <th>2</th>\n",
       "      <td>train/4.jpg</td>\n",
       "      <td>3</td>\n",
       "      <td>1</td>\n",
       "      <td>2</td>\n",
       "      <td>312</td>\n",
       "      <td>1347</td>\n",
       "      <td>0.000742</td>\n",
       "    </tr>\n",
       "    <tr>\n",
       "      <th>3</th>\n",
       "      <td>train/5.jpg</td>\n",
       "      <td>3</td>\n",
       "      <td>1</td>\n",
       "      <td>2</td>\n",
       "      <td>312</td>\n",
       "      <td>1347</td>\n",
       "      <td>0.000742</td>\n",
       "    </tr>\n",
       "    <tr>\n",
       "      <th>4</th>\n",
       "      <td>train/7.jpg</td>\n",
       "      <td>5</td>\n",
       "      <td>0</td>\n",
       "      <td>6</td>\n",
       "      <td>506</td>\n",
       "      <td>961</td>\n",
       "      <td>0.001041</td>\n",
       "    </tr>\n",
       "    <tr>\n",
       "      <th>...</th>\n",
       "      <td>...</td>\n",
       "      <td>...</td>\n",
       "      <td>...</td>\n",
       "      <td>...</td>\n",
       "      <td>...</td>\n",
       "      <td>...</td>\n",
       "      <td>...</td>\n",
       "    </tr>\n",
       "    <tr>\n",
       "      <th>69390</th>\n",
       "      <td>train/86738.jpg</td>\n",
       "      <td>2</td>\n",
       "      <td>0</td>\n",
       "      <td>2</td>\n",
       "      <td>202</td>\n",
       "      <td>510</td>\n",
       "      <td>0.001961</td>\n",
       "    </tr>\n",
       "    <tr>\n",
       "      <th>69391</th>\n",
       "      <td>train/86741.jpg</td>\n",
       "      <td>2</td>\n",
       "      <td>0</td>\n",
       "      <td>2</td>\n",
       "      <td>202</td>\n",
       "      <td>510</td>\n",
       "      <td>0.001961</td>\n",
       "    </tr>\n",
       "    <tr>\n",
       "      <th>69392</th>\n",
       "      <td>train/86742.jpg</td>\n",
       "      <td>8</td>\n",
       "      <td>1</td>\n",
       "      <td>2</td>\n",
       "      <td>812</td>\n",
       "      <td>93</td>\n",
       "      <td>0.010753</td>\n",
       "    </tr>\n",
       "    <tr>\n",
       "      <th>69393</th>\n",
       "      <td>train/86743.jpg</td>\n",
       "      <td>2</td>\n",
       "      <td>1</td>\n",
       "      <td>4</td>\n",
       "      <td>214</td>\n",
       "      <td>663</td>\n",
       "      <td>0.001508</td>\n",
       "    </tr>\n",
       "    <tr>\n",
       "      <th>69394</th>\n",
       "      <td>train/86744.jpg</td>\n",
       "      <td>5</td>\n",
       "      <td>0</td>\n",
       "      <td>0</td>\n",
       "      <td>500</td>\n",
       "      <td>1104</td>\n",
       "      <td>0.000906</td>\n",
       "    </tr>\n",
       "  </tbody>\n",
       "</table>\n",
       "<p>69395 rows × 7 columns</p>\n",
       "</div>"
      ],
      "text/plain": [
       "                  file  age  gender  race group  count  group_weight\n",
       "0          train/1.jpg    6       0     3   603    272      0.003676\n",
       "1          train/2.jpg    4       1     2   412    931      0.001074\n",
       "2          train/4.jpg    3       1     2   312   1347      0.000742\n",
       "3          train/5.jpg    3       1     2   312   1347      0.000742\n",
       "4          train/7.jpg    5       0     6   506    961      0.001041\n",
       "...                ...  ...     ...   ...   ...    ...           ...\n",
       "69390  train/86738.jpg    2       0     2   202    510      0.001961\n",
       "69391  train/86741.jpg    2       0     2   202    510      0.001961\n",
       "69392  train/86742.jpg    8       1     2   812     93      0.010753\n",
       "69393  train/86743.jpg    2       1     4   214    663      0.001508\n",
       "69394  train/86744.jpg    5       0     0   500   1104      0.000906\n",
       "\n",
       "[69395 rows x 7 columns]"
      ]
     },
     "execution_count": 7,
     "metadata": {},
     "output_type": "execute_result"
    }
   ],
   "source": [
    "train_labels.drop(['age_weight', 'gender_weight', 'race_weight', 'total_weight'], axis=1)"
   ]
  },
  {
   "cell_type": "code",
   "execution_count": 8,
   "metadata": {},
   "outputs": [],
   "source": [
    "root_dir = Path('/home/FairFace_Modeling/')\n",
    "images_dir = 'data/'\n",
    "\n",
    "# Set the batch size for 64 samples\n",
    "batch_size = 512\n",
    "\n",
    "sampler = WeightedRandomSampler(weights=train_labels['group_weight'], num_samples=len(train_labels), replacement=True)\n",
    "\n",
    "# Create a FairFaceDataset object for the training data.\n",
    "fairface_train = data.FairFaceDataset('fairface_label_train.csv', \n",
    "                                        root_dir=root_dir, \n",
    "                                        mode='train',\n",
    "                                        encoders=encoders,\n",
    "                                        transform=transforms.Compose([transforms.ToTensor(),\n",
    "                                                                      transforms.RandomHorizontalFlip(p=0.5),\n",
    "                                                                      transforms.RandomPerspective(p=0.5),\n",
    "                                                                      transforms.RandomAdjustSharpness(2, p=0.5),\n",
    "                                                                      transforms.Normalize(mean=[0.485, 0.456, 0.406], \n",
    "                                                                                           std=[0.229, 0.224, 0.225])\n",
    "                                                                      ]))\n",
    "# Set the FairFaceDataset object to train mode.\n",
    "fairface_train.train()\n",
    "# Create a DataLoader object for the training data.\n",
    "train_loader = DataLoader(fairface_train, batch_size=batch_size, num_workers=5, sampler=sampler)\n",
    "\n",
    "# Create a FairFaceDataset object for the test data.\n",
    "fairface_test = data.FairFaceDataset('fairface_label_train.csv', \n",
    "                                     root_dir=root_dir, \n",
    "                                     mode='test',\n",
    "                                     encoders=encoders,\n",
    "                                     transform=transforms.Compose([transforms.ToTensor(),\n",
    "                                                                   transforms.Normalize(mean=[0.485, 0.456, 0.406], \n",
    "                                                                                        std=[0.229, 0.224, 0.225])]))\n",
    "# Set the FairFaceDataset object to train mode.\n",
    "fairface_test.train()\n",
    "# Create a DataLoader object for the test data.\n",
    "test_loader = DataLoader(fairface_test, batch_size=batch_size, shuffle=True, num_workers=5)\n",
    "\n",
    "# Create a FairFaceDataset object for the validation data.\n",
    "fairface_val = data.FairFaceDataset('fairface_label_val.csv', \n",
    "                                     root_dir=root_dir, \n",
    "                                     mode='val',\n",
    "                                     encoders=encoders,\n",
    "                                     transform=transforms.Compose([transforms.ToTensor(),\n",
    "                                                                   transforms.Normalize(mean=[0.485, 0.456, 0.406], \n",
    "                                                                                        std=[0.229, 0.224, 0.225])]))\n",
    "# Set the FairFaceDataset object to train mode.\n",
    "fairface_val.train()\n",
    "# Create a DataLoader object for the validation data.\n",
    "val_loader = DataLoader(fairface_val, batch_size=batch_size, shuffle=True, num_workers=5)"
   ]
  },
  {
   "cell_type": "code",
   "execution_count": 9,
   "metadata": {},
   "outputs": [
    {
     "name": "stderr",
     "output_type": "stream",
     "text": [
      "Clipping input data to the valid range for imshow with RGB data ([0..1] for floats or [0..255] for integers).\n"
     ]
    },
    {
     "data": {
      "image/png": "[encoded data removed]",
      "text/plain": [
       "<Figure size 640x480 with 1 Axes>"
      ]
     },
     "metadata": {},
     "output_type": "display_data"
    }
   ],
   "source": [
    "def display_torch_img(dataset, index):\n",
    "    \"\"\"Displays a single image from the given dataset at the given index.\n",
    "\n",
    "    Args:\n",
    "        dataset: A PyTorch dataset object or the array of tensors.\n",
    "        index: The index of the image to display.\n",
    "\n",
    "    Returns:\n",
    "        None.\n",
    "    \"\"\"\n",
    "\n",
    "    # Check if the dataset is a FairFaceDataset object.\n",
    "    if type(dataset) == data.FairFaceDataset:\n",
    "\n",
    "        # Get the image from the dataset.\n",
    "        img = dataset[index]['image']\n",
    "\n",
    "        # If the image is a 4D tensor, squeeze it to a 3D tensor.\n",
    "        if len(dataset[index]['image'].shape) == 4:\n",
    "            img = torch.squeeze(img)\n",
    "\n",
    "    # Otherwise, the dataset is assumed to be an array of tensors.\n",
    "    else:\n",
    "\n",
    "        # Get the image from the dataset.\n",
    "        img = dataset[index]\n",
    "\n",
    "    # Permute the image axes so that the channel axis is the last axis.\n",
    "    img = img.permute(1, 2, 0)\n",
    "\n",
    "    # Display the image using Matplotlib.\n",
    "    plt.imshow(img)\n",
    "    plt.show()\n",
    "\n",
    "display_torch_img(fairface_train, 35)"
   ]
  },
  {
   "cell_type": "markdown",
   "metadata": {},
   "source": [
    "### Sample data"
   ]
  },
  {
   "cell_type": "code",
   "execution_count": 10,
   "metadata": {},
   "outputs": [],
   "source": [
    "img_grid = torchvision.utils.make_grid(fairface_train[13]['image'])\n",
    "writer.add_image('fairface_image1', img_grid)\n",
    "\n",
    "img_grid = torchvision.utils.make_grid(fairface_train[26]['image'])\n",
    "writer.add_image('fairface_image2', img_grid)\n",
    "\n",
    "for i in range(5):\n",
    "    img_grid = torchvision.utils.make_grid(fairface_train[43 + i]['image'])\n",
    "    writer.add_image(f'fairface_image{i + 3}', img_grid)"
   ]
  },
  {
   "cell_type": "markdown",
   "metadata": {},
   "source": [
    "### First try of training a neural network"
   ]
  },
  {
   "cell_type": "code",
   "execution_count": 11,
   "metadata": {},
   "outputs": [
    {
     "name": "stdout",
     "output_type": "stream",
     "text": [
      "Adjusting learning rate of group 0 to 1.0000e-04.\n"
     ]
    }
   ],
   "source": [
    "device = torch.device(\"cuda:0\" if torch.cuda.is_available() else \"cpu\")\n",
    "mobilenet = mobilenet.to(device)\n",
    "model = model.FairFaceMobileNet(mobilenet).to(device)\n",
    "\n",
    "# For race and age classes\n",
    "bce = nn.BCELoss().to(device)\n",
    "criterion = nn.CrossEntropyLoss().to(device)\n",
    "optimizer = optim.Adam(model.parameters(), lr=1e-4)\n",
    "scheduler = lr_scheduler.MultiStepLR(optimizer, milestones=[5, 10, 15, 20, 25], gamma=0.5, verbose=True)"
   ]
  },
  {
   "cell_type": "markdown",
   "metadata": {},
   "source": [
    "### Plug-in BYOL Pytorch"
   ]
  },
  {
   "cell_type": "code",
   "execution_count": 13,
   "metadata": {},
   "outputs": [],
   "source": [
    "from byol_pytorch import BYOL\n",
    "\n",
    "learner = BYOL(\n",
    "    model,\n",
    "    image_size = 224,\n",
    "    hidden_layer = -2\n",
    ")"
   ]
  },
  {
   "cell_type": "markdown",
   "metadata": {},
   "source": [
    "### Train model"
   ]
  },
  {
   "cell_type": "code",
   "execution_count": 14,
   "metadata": {},
   "outputs": [
    {
     "name": "stderr",
     "output_type": "stream",
     "text": [
      "100%|██████████| 136/136 [01:01<00:00,  2.22it/s]\n"
     ]
    },
    {
     "name": "stdout",
     "output_type": "stream",
     "text": [
      "Training step:\n",
      "Epoch = 1, Loss = 5.709654808044434\n",
      "Age accuracy = 0.1643490164997478\tRace accuracy = 0.14209957489732689\tGender accuracy = 0.506174796455076\n",
      "Age loss = 2.130040407180786\tRace loss = 1.9537858963012695\tGender Loss = 0.6929239630699158\n"
     ]
    },
    {
     "name": "stderr",
     "output_type": "stream",
     "text": [
      "100%|██████████| 34/34 [00:08<00:00,  4.07it/s]\n"
     ]
    },
    {
     "name": "stdout",
     "output_type": "stream",
     "text": [
      "Validation step:\n",
      "Epoch = 1, Loss = 5.701818129595588\n",
      "Age accuracy = 0.11257132975964032\tRace accuracy = 0.1434088420081849\tGender accuracy = 0.49910657674793935\n",
      "Age loss = 2.1276845932006836\tRace loss = 1.950877070426941\tGender Loss = 0.6901983618736267\n",
      "End of Epoch: 1 \tTraining Loss: 5.709654808044434 \tValidation Loss: 5.701818129595588\n",
      "Validation loss decreased (inf --> 5.701818129595588).  Saving model ...\n"
     ]
    },
    {
     "name": "stderr",
     "output_type": "stream",
     "text": [
      "100%|██████████| 136/136 [01:01<00:00,  2.21it/s]\n"
     ]
    },
    {
     "name": "stdout",
     "output_type": "stream",
     "text": [
      "Training step:\n",
      "Epoch = 2, Loss = 5.464679718017578\n",
      "Age accuracy = 0.22870523812954824\tRace accuracy = 0.16202896462281144\tGender accuracy = 0.6152460551912962\n",
      "Age loss = 1.9875988960266113\tRace loss = 1.9387158155441284\tGender Loss = 0.6514613628387451\n"
     ]
    },
    {
     "name": "stderr",
     "output_type": "stream",
     "text": [
      "100%|██████████| 34/34 [00:08<00:00,  4.07it/s]\n"
     ]
    },
    {
     "name": "stdout",
     "output_type": "stream",
     "text": [
      "Validation step:\n",
      "Epoch = 2, Loss = 5.414945644490859\n",
      "Age accuracy = 0.13539685284454436\tRace accuracy = 0.20225949622456627\tGender accuracy = 0.748976886275866\n",
      "Age loss = 2.022892475128174\tRace loss = 1.888116717338562\tGender Loss = 0.5197284817695618\n",
      "End of Epoch: 2 \tTraining Loss: 5.464679718017578 \tValidation Loss: 5.414945644490859\n",
      "Validation loss decreased (5.701818129595588 --> 5.414945644490859).  Saving model ...\n"
     ]
    },
    {
     "name": "stderr",
     "output_type": "stream",
     "text": [
      "100%|██████████| 136/136 [01:03<00:00,  2.15it/s]\n"
     ]
    },
    {
     "name": "stdout",
     "output_type": "stream",
     "text": [
      "Training step:\n",
      "Epoch = 3, Loss = 5.118614673614502\n",
      "Age accuracy = 0.2664457093450537\tRace accuracy = 0.2211686720945313\tGender accuracy = 0.7723323005980258\n",
      "Age loss = 1.8664215803146362\tRace loss = 1.843294382095337\tGender Loss = 0.49190348386764526\n"
     ]
    },
    {
     "name": "stderr",
     "output_type": "stream",
     "text": [
      "100%|██████████| 34/34 [00:08<00:00,  3.90it/s]\n"
     ]
    },
    {
     "name": "stdout",
     "output_type": "stream",
     "text": [
      "Validation step:\n",
      "Epoch = 3, Loss = 4.7616627777324005\n",
      "Age accuracy = 0.39910081272695835\tRace accuracy = 0.31148769381520547\tGender accuracy = 0.8451783964493631\n",
      "Age loss = 1.7572100162506104\tRace loss = 1.7195490598678589\tGender Loss = 0.3453797399997711\n",
      "End of Epoch: 3 \tTraining Loss: 5.118614673614502 \tValidation Loss: 4.7616627777324005\n",
      "Validation loss decreased (5.414945644490859 --> 4.7616627777324005).  Saving model ...\n"
     ]
    },
    {
     "name": "stderr",
     "output_type": "stream",
     "text": [
      "100%|██████████| 136/136 [01:02<00:00,  2.18it/s]\n"
     ]
    },
    {
     "name": "stdout",
     "output_type": "stream",
     "text": [
      "Training step:\n",
      "Epoch = 4, Loss = 4.75586462020874\n",
      "Age accuracy = 0.33518265004683334\tRace accuracy = 0.2672382736508394\tGender accuracy = 0.8322645723755314\n",
      "Age loss = 1.7264255285263062\tRace loss = 1.7391515970230103\tGender Loss = 0.39824143052101135\n"
     ]
    },
    {
     "name": "stderr",
     "output_type": "stream",
     "text": [
      "100%|██████████| 34/34 [00:08<00:00,  3.99it/s]\n"
     ]
    },
    {
     "name": "stdout",
     "output_type": "stream",
     "text": [
      "Validation step:\n",
      "Epoch = 4, Loss = 4.453979183645809\n",
      "Age accuracy = 0.4164505158798778\tRace accuracy = 0.3607700732030665\tGender accuracy = 0.8718081733817511\n",
      "Age loss = 1.6484382152557373\tRace loss = 1.6114639043807983\tGender Loss = 0.29063376784324646\n",
      "End of Epoch: 4 \tTraining Loss: 4.75586462020874 \tValidation Loss: 4.453979183645809\n",
      "Validation loss decreased (4.7616627777324005 --> 4.453979183645809).  Saving model ...\n"
     ]
    },
    {
     "name": "stderr",
     "output_type": "stream",
     "text": [
      "100%|██████████| 136/136 [00:57<00:00,  2.35it/s]\n"
     ]
    },
    {
     "name": "stdout",
     "output_type": "stream",
     "text": [
      "Training step:\n",
      "Epoch = 5, Loss = 4.45305061340332\n",
      "Age accuracy = 0.3786007637437856\tRace accuracy = 0.3206571078607969\tGender accuracy = 0.8579436558829887\n",
      "Age loss = 1.611324429512024\tRace loss = 1.642890453338623\tGender Loss = 0.3450964689254761\n"
     ]
    },
    {
     "name": "stderr",
     "output_type": "stream",
     "text": [
      "100%|██████████| 34/34 [00:08<00:00,  4.03it/s]\n"
     ]
    },
    {
     "name": "stdout",
     "output_type": "stream",
     "text": [
      "Validation step:\n",
      "Epoch = 5, Loss = 4.1529653352849625\n",
      "Age accuracy = 0.4337425788229869\tRace accuracy = 0.4202547697273618\tGender accuracy = 0.8812611677906508\n",
      "Age loss = 1.5196878910064697\tRace loss = 1.5236961841583252\tGender Loss = 0.27487677335739136\n",
      "End of Epoch: 5 \tTraining Loss: 4.45305061340332 \tValidation Loss: 4.1529653352849625\n",
      "Validation loss decreased (4.453979183645809 --> 4.1529653352849625).  Saving model ...\n"
     ]
    },
    {
     "name": "stderr",
     "output_type": "stream",
     "text": [
      "100%|██████████| 136/136 [01:03<00:00,  2.15it/s]\n"
     ]
    },
    {
     "name": "stdout",
     "output_type": "stream",
     "text": [
      "Training step:\n",
      "Epoch = 6, Loss = 4.219694137573242\n",
      "Age accuracy = 0.40317025722314287\tRace accuracy = 0.36815332516751925\tGender accuracy = 0.8722242236472368\n",
      "Age loss = 1.5243191719055176\tRace loss = 1.5647286176681519\tGender Loss = 0.31055620312690735\n"
     ]
    },
    {
     "name": "stderr",
     "output_type": "stream",
     "text": [
      "100%|██████████| 34/34 [00:08<00:00,  3.93it/s]\n"
     ]
    },
    {
     "name": "stdout",
     "output_type": "stream",
     "text": [
      "Validation step:\n",
      "Epoch = 6, Loss = 3.9964764609056362\n",
      "Age accuracy = 0.4486713931638711\tRace accuracy = 0.45437777393509715\tGender accuracy = 0.8833362153438239\n",
      "Age loss = 1.444571614265442\tRace loss = 1.487638235092163\tGender Loss = 0.2699461877346039\n",
      "End of Epoch: 6 \tTraining Loss: 4.219694137573242 \tValidation Loss: 3.9964764609056362\n",
      "Validation loss decreased (4.1529653352849625 --> 3.9964764609056362).  Saving model ...\n"
     ]
    },
    {
     "name": "stderr",
     "output_type": "stream",
     "text": [
      "100%|██████████| 136/136 [01:02<00:00,  2.19it/s]\n"
     ]
    },
    {
     "name": "stdout",
     "output_type": "stream",
     "text": [
      "Training step:\n",
      "Epoch = 7, Loss = 4.019764423370361\n",
      "Age accuracy = 0.42490092946177677\tRace accuracy = 0.4050435910368182\tGender accuracy = 0.8836083291303408\n",
      "Age loss = 1.4449971914291382\tRace loss = 1.5018258094787598\tGender Loss = 0.2882792055606842\n"
     ]
    },
    {
     "name": "stderr",
     "output_type": "stream",
     "text": [
      "100%|██████████| 34/34 [00:08<00:00,  3.90it/s]\n"
     ]
    },
    {
     "name": "stdout",
     "output_type": "stream",
     "text": [
      "Validation step:\n",
      "Epoch = 7, Loss = 3.860403166097753\n",
      "Age accuracy = 0.452936768689838\tRace accuracy = 0.4829096777912272\tGender accuracy = 0.8864487866735835\n",
      "Age loss = 1.4034028053283691\tRace loss = 1.4269909858703613\tGender Loss = 0.259757399559021\n",
      "End of Epoch: 7 \tTraining Loss: 4.019764423370361 \tValidation Loss: 3.860403166097753\n",
      "Validation loss decreased (3.9964764609056362 --> 3.860403166097753).  Saving model ...\n"
     ]
    },
    {
     "name": "stderr",
     "output_type": "stream",
     "text": [
      "100%|██████████| 136/136 [01:01<00:00,  2.20it/s]\n"
     ]
    },
    {
     "name": "stdout",
     "output_type": "stream",
     "text": [
      "Training step:\n",
      "Epoch = 8, Loss = 3.847625732421875\n",
      "Age accuracy = 0.439628215289286\tRace accuracy = 0.4396138050291808\tGender accuracy = 0.8884069457453707\n",
      "Age loss = 1.387200951576233\tRace loss = 1.4319257736206055\tGender Loss = 0.2771836519241333\n"
     ]
    },
    {
     "name": "stderr",
     "output_type": "stream",
     "text": [
      "100%|██████████| 34/34 [00:08<00:00,  3.98it/s]\n"
     ]
    },
    {
     "name": "stdout",
     "output_type": "stream",
     "text": [
      "Validation step:\n",
      "Epoch = 8, Loss = 3.728097438812256\n",
      "Age accuracy = 0.48129575191653695\tRace accuracy = 0.5046400368897342\tGender accuracy = 0.8893307971641017\n",
      "Age loss = 1.342328667640686\tRace loss = 1.3935130834579468\tGender Loss = 0.25513458251953125\n",
      "End of Epoch: 8 \tTraining Loss: 3.847625732421875 \tValidation Loss: 3.728097438812256\n",
      "Validation loss decreased (3.860403166097753 --> 3.728097438812256).  Saving model ...\n"
     ]
    },
    {
     "name": "stderr",
     "output_type": "stream",
     "text": [
      "100%|██████████| 136/136 [01:04<00:00,  2.12it/s]\n"
     ]
    },
    {
     "name": "stdout",
     "output_type": "stream",
     "text": [
      "Training step:\n",
      "Epoch = 9, Loss = 3.680732488632202\n",
      "Age accuracy = 0.4593270408530874\tRace accuracy = 0.4665754016860004\tGender accuracy = 0.8985373585993227\n",
      "Age loss = 1.3200899362564087\tRace loss = 1.3808711767196655\tGender Loss = 0.2575073838233948\n"
     ]
    },
    {
     "name": "stderr",
     "output_type": "stream",
     "text": [
      "100%|██████████| 34/34 [00:08<00:00,  3.94it/s]\n"
     ]
    },
    {
     "name": "stdout",
     "output_type": "stream",
     "text": [
      "Validation step:\n",
      "Epoch = 9, Loss = 3.711193561553955\n",
      "Age accuracy = 0.4744365669491037\tRace accuracy = 0.5121332641650815\tGender accuracy = 0.890022479681826\n",
      "Age loss = 1.3511523008346558\tRace loss = 1.3652774095535278\tGender Loss = 0.26391270756721497\n",
      "End of Epoch: 9 \tTraining Loss: 3.680732488632202 \tValidation Loss: 3.711193561553955\n",
      "Validation loss decreased (3.728097438812256 --> 3.711193561553955).  Saving model ...\n"
     ]
    },
    {
     "name": "stderr",
     "output_type": "stream",
     "text": [
      "100%|██████████| 136/136 [01:03<00:00,  2.15it/s]\n"
     ]
    },
    {
     "name": "stdout",
     "output_type": "stream",
     "text": [
      "Training step:\n",
      "Epoch = 10, Loss = 3.543032646179199\n",
      "Age accuracy = 0.4775992506664745\tRace accuracy = 0.4892859716117876\tGender accuracy = 0.9031198213127747\n",
      "Age loss = 1.2702516317367554\tRace loss = 1.3300527334213257\tGender Loss = 0.2469482719898224\n"
     ]
    },
    {
     "name": "stderr",
     "output_type": "stream",
     "text": [
      "100%|██████████| 34/34 [00:08<00:00,  4.03it/s]\n"
     ]
    },
    {
     "name": "stdout",
     "output_type": "stream",
     "text": [
      "Validation step:\n",
      "Epoch = 10, Loss = 3.5869475883596085\n",
      "Age accuracy = 0.49438007954348956\tRace accuracy = 0.5273502795550176\tGender accuracy = 0.8928468499625338\n",
      "Age loss = 1.2911275625228882\tRace loss = 1.3382757902145386\tGender Loss = 0.2559811472892761\n",
      "End of Epoch: 10 \tTraining Loss: 3.543032646179199 \tValidation Loss: 3.5869475883596085\n",
      "Validation loss decreased (3.711193561553955 --> 3.5869475883596085).  Saving model ...\n"
     ]
    },
    {
     "name": "stderr",
     "output_type": "stream",
     "text": [
      "100%|██████████| 136/136 [01:02<00:00,  2.18it/s]\n"
     ]
    },
    {
     "name": "stdout",
     "output_type": "stream",
     "text": [
      "Training step:\n",
      "Epoch = 11, Loss = 3.430014133453369\n",
      "Age accuracy = 0.4906549463217811\tRace accuracy = 0.5063621298364436\tGender accuracy = 0.9076302327257006\n",
      "Age loss = 1.2259804010391235\tRace loss = 1.293137788772583\tGender Loss = 0.23658336699008942\n"
     ]
    },
    {
     "name": "stderr",
     "output_type": "stream",
     "text": [
      "100%|██████████| 34/34 [00:08<00:00,  3.92it/s]\n"
     ]
    },
    {
     "name": "stdout",
     "output_type": "stream",
     "text": [
      "Validation step:\n",
      "Epoch = 11, Loss = 3.536494318176718\n",
      "Age accuracy = 0.5031990316444752\tRace accuracy = 0.5393394431955733\tGender accuracy = 0.893192691221396\n",
      "Age loss = 1.2695868015289307\tRace loss = 1.3224446773529053\tGender Loss = 0.25713232159614563\n",
      "End of Epoch: 11 \tTraining Loss: 3.430014133453369 \tValidation Loss: 3.536494318176718\n",
      "Validation loss decreased (3.5869475883596085 --> 3.536494318176718).  Saving model ...\n"
     ]
    },
    {
     "name": "stderr",
     "output_type": "stream",
     "text": [
      "100%|██████████| 136/136 [01:02<00:00,  2.19it/s]\n"
     ]
    },
    {
     "name": "stdout",
     "output_type": "stream",
     "text": [
      "Training step:\n",
      "Epoch = 12, Loss = 3.340833902359009\n",
      "Age accuracy = 0.4986958714604799\tRace accuracy = 0.5214208516463722\tGender accuracy = 0.9093450536782189\n",
      "Age loss = 1.1976715326309204\tRace loss = 1.2545808553695679\tGender Loss = 0.2317199856042862\n"
     ]
    },
    {
     "name": "stderr",
     "output_type": "stream",
     "text": [
      "100%|██████████| 34/34 [00:08<00:00,  4.08it/s]\n"
     ]
    },
    {
     "name": "stdout",
     "output_type": "stream",
     "text": [
      "Validation step:\n",
      "Epoch = 12, Loss = 3.512582968263065\n",
      "Age accuracy = 0.5012969047207332\tRace accuracy = 0.5468903106807309\tGender accuracy = 0.8950371779353277\n",
      "Age loss = 1.2720335721969604\tRace loss = 1.3011218309402466\tGender Loss = 0.24915237724781036\n",
      "End of Epoch: 12 \tTraining Loss: 3.340833902359009 \tValidation Loss: 3.512582968263065\n",
      "Validation loss decreased (3.536494318176718 --> 3.512582968263065).  Saving model ...\n"
     ]
    },
    {
     "name": "stderr",
     "output_type": "stream",
     "text": [
      "100%|██████████| 136/136 [01:07<00:00,  2.02it/s]\n"
     ]
    },
    {
     "name": "stdout",
     "output_type": "stream",
     "text": [
      "Training step:\n",
      "Epoch = 13, Loss = 3.2426438331604004\n",
      "Age accuracy = 0.5135816701491462\tRace accuracy = 0.5363210605951437\tGender accuracy = 0.915714388644715\n",
      "Age loss = 1.1662278175354004\tRace loss = 1.214883804321289\tGender Loss = 0.21784061193466187\n"
     ]
    },
    {
     "name": "stderr",
     "output_type": "stream",
     "text": [
      "100%|██████████| 34/34 [00:08<00:00,  3.85it/s]\n"
     ]
    },
    {
     "name": "stdout",
     "output_type": "stream",
     "text": [
      "Validation step:\n",
      "Epoch = 13, Loss = 3.494449306936825\n",
      "Age accuracy = 0.5051587987780276\tRace accuracy = 0.55150152746556\tGender accuracy = 0.8968816646492593\n",
      "Age loss = 1.2560864686965942\tRace loss = 1.3046964406967163\tGender Loss = 0.25401437282562256\n",
      "End of Epoch: 13 \tTraining Loss: 3.2426438331604004 \tValidation Loss: 3.494449306936825\n",
      "Validation loss decreased (3.512582968263065 --> 3.494449306936825).  Saving model ...\n"
     ]
    },
    {
     "name": "stderr",
     "output_type": "stream",
     "text": [
      "100%|██████████| 136/136 [01:03<00:00,  2.13it/s]\n"
     ]
    },
    {
     "name": "stdout",
     "output_type": "stream",
     "text": [
      "Training step:\n",
      "Epoch = 14, Loss = 3.1531331539154053\n",
      "Age accuracy = 0.5230059802579436\tRace accuracy = 0.55045752575834\tGender accuracy = 0.9193025434109086\n",
      "Age loss = 1.1348519325256348\tRace loss = 1.1810725927352905\tGender Loss = 0.20909294486045837\n"
     ]
    },
    {
     "name": "stderr",
     "output_type": "stream",
     "text": [
      "100%|██████████| 34/34 [00:08<00:00,  3.83it/s]\n"
     ]
    },
    {
     "name": "stdout",
     "output_type": "stream",
     "text": [
      "Validation step:\n",
      "Epoch = 14, Loss = 3.4867009625715366\n",
      "Age accuracy = 0.49881837569888754\tRace accuracy = 0.5559974638307683\tGender accuracy = 0.896824024439449\n",
      "Age loss = 1.2591516971588135\tRace loss = 1.2944297790527344\tGender Loss = 0.25300201773643494\n",
      "End of Epoch: 14 \tTraining Loss: 3.1531331539154053 \tValidation Loss: 3.4867009625715366\n",
      "Validation loss decreased (3.494449306936825 --> 3.4867009625715366).  Saving model ...\n"
     ]
    },
    {
     "name": "stderr",
     "output_type": "stream",
     "text": [
      "100%|██████████| 136/136 [01:03<00:00,  2.15it/s]\n"
     ]
    },
    {
     "name": "stdout",
     "output_type": "stream",
     "text": [
      "Training step:\n",
      "Epoch = 15, Loss = 3.1030466556549072\n",
      "Age accuracy = 0.528582750918654\tRace accuracy = 0.5603141436702932\tGender accuracy = 0.9185532098854384\n",
      "Age loss = 1.1224215030670166\tRace loss = 1.1547696590423584\tGender Loss = 0.20707349479198456\n"
     ]
    },
    {
     "name": "stderr",
     "output_type": "stream",
     "text": [
      "100%|██████████| 34/34 [00:08<00:00,  3.80it/s]\n"
     ]
    },
    {
     "name": "stdout",
     "output_type": "stream",
     "text": [
      "Validation step:\n",
      "Epoch = 15, Loss = 3.4465835515190575\n",
      "Age accuracy = 0.5037754337425788\tRace accuracy = 0.5609545218744596\tGender accuracy = 0.90016715660845\n",
      "Age loss = 1.2584291696548462\tRace loss = 1.258549451828003\tGender Loss = 0.26193004846572876\n",
      "End of Epoch: 15 \tTraining Loss: 3.1030466556549072 \tValidation Loss: 3.4465835515190575\n",
      "Validation loss decreased (3.4867009625715366 --> 3.4465835515190575).  Saving model ...\n"
     ]
    },
    {
     "name": "stderr",
     "output_type": "stream",
     "text": [
      "100%|██████████| 136/136 [01:03<00:00,  2.13it/s]\n"
     ]
    },
    {
     "name": "stdout",
     "output_type": "stream",
     "text": [
      "Training step:\n",
      "Epoch = 16, Loss = 3.0444037914276123\n",
      "Age accuracy = 0.5365083939765113\tRace accuracy = 0.5712515310901362\tGender accuracy = 0.9241299805461488\n",
      "Age loss = 1.1020654439926147\tRace loss = 1.132645606994629\tGender Loss = 0.20033815503120422\n"
     ]
    },
    {
     "name": "stderr",
     "output_type": "stream",
     "text": [
      "100%|██████████| 34/34 [00:08<00:00,  3.84it/s]\n"
     ]
    },
    {
     "name": "stdout",
     "output_type": "stream",
     "text": [
      "Validation step:\n",
      "Epoch = 16, Loss = 3.486485102597405\n",
      "Age accuracy = 0.499682978846043\tRace accuracy = 0.5625684477491498\tGender accuracy = 0.9009164793359847\n",
      "Age loss = 1.2849619388580322\tRace loss = 1.2600926160812378\tGender Loss = 0.25677013397216797\n",
      "End of Epoch: 16 \tTraining Loss: 3.0444037914276123 \tValidation Loss: 3.486485102597405\n"
     ]
    },
    {
     "name": "stderr",
     "output_type": "stream",
     "text": [
      "100%|██████████| 136/136 [01:06<00:00,  2.05it/s]\n"
     ]
    },
    {
     "name": "stdout",
     "output_type": "stream",
     "text": [
      "Training step:\n",
      "Epoch = 17, Loss = 2.955770492553711\n",
      "Age accuracy = 0.5456877296635204\tRace accuracy = 0.5820015851286116\tGender accuracy = 0.9246487499099358\n",
      "Age loss = 1.0693182945251465\tRace loss = 1.1005278825759888\tGender Loss = 0.19447654485702515\n"
     ]
    },
    {
     "name": "stderr",
     "output_type": "stream",
     "text": [
      "100%|██████████| 34/34 [00:08<00:00,  3.90it/s]\n"
     ]
    },
    {
     "name": "stdout",
     "output_type": "stream",
     "text": [
      "Validation step:\n",
      "Epoch = 17, Loss = 3.5115221247953525\n",
      "Age accuracy = 0.49864545506945646\tRace accuracy = 0.5657386592887198\tGender accuracy = 0.9013199608046574\n",
      "Age loss = 1.271195411682129\tRace loss = 1.2976902723312378\tGender Loss = 0.26191258430480957\n",
      "End of Epoch: 17 \tTraining Loss: 2.955770492553711 \tValidation Loss: 3.5115221247953525\n"
     ]
    },
    {
     "name": "stderr",
     "output_type": "stream",
     "text": [
      "100%|██████████| 136/136 [01:03<00:00,  2.14it/s]\n"
     ]
    },
    {
     "name": "stdout",
     "output_type": "stream",
     "text": [
      "Training step:\n",
      "Epoch = 18, Loss = 2.9132957458496094\n",
      "Age accuracy = 0.550529577058866\tRace accuracy = 0.5903595359896247\tGender accuracy = 0.9268967504863462\n",
      "Age loss = 1.059369444847107\tRace loss = 1.0778999328613281\tGender Loss = 0.1912095993757248\n"
     ]
    },
    {
     "name": "stderr",
     "output_type": "stream",
     "text": [
      "100%|██████████| 34/34 [00:08<00:00,  3.86it/s]\n"
     ]
    },
    {
     "name": "stdout",
     "output_type": "stream",
     "text": [
      "Validation step:\n",
      "Epoch = 18, Loss = 3.5247303738313565\n",
      "Age accuracy = 0.5015274655599746\tRace accuracy = 0.5610698022940803\tGender accuracy = 0.9011470401752263\n",
      "Age loss = 1.2683932781219482\tRace loss = 1.3152018785476685\tGender Loss = 0.2525904178619385\n",
      "End of Epoch: 18 \tTraining Loss: 2.9132957458496094 \tValidation Loss: 3.5247303738313565\n"
     ]
    },
    {
     "name": "stderr",
     "output_type": "stream",
     "text": [
      "100%|██████████| 136/136 [01:03<00:00,  2.14it/s]\n"
     ]
    },
    {
     "name": "stdout",
     "output_type": "stream",
     "text": [
      "Training step:\n",
      "Epoch = 19, Loss = 2.860283374786377\n",
      "Age accuracy = 0.5584408098566179\tRace accuracy = 0.6010519489876792\tGender accuracy = 0.928582750918654\n",
      "Age loss = 1.0422359704971313\tRace loss = 1.0550297498703003\tGender Loss = 0.18952620029449463\n"
     ]
    },
    {
     "name": "stderr",
     "output_type": "stream",
     "text": [
      "100%|██████████| 34/34 [00:08<00:00,  3.87it/s]\n"
     ]
    },
    {
     "name": "stdout",
     "output_type": "stream",
     "text": [
      "Validation step:\n",
      "Epoch = 19, Loss = 3.5085806986864876\n",
      "Age accuracy = 0.5016427459795954\tRace accuracy = 0.5663727015966338\tGender accuracy = 0.9034526485676407\n",
      "Age loss = 1.297637701034546\tRace loss = 1.2621262073516846\tGender Loss = 0.25890010595321655\n",
      "End of Epoch: 19 \tTraining Loss: 2.860283374786377 \tValidation Loss: 3.5085806986864876\n"
     ]
    },
    {
     "name": "stderr",
     "output_type": "stream",
     "text": [
      "100%|██████████| 136/136 [01:03<00:00,  2.14it/s]\n"
     ]
    },
    {
     "name": "stdout",
     "output_type": "stream",
     "text": [
      "Training step:\n",
      "Epoch = 20, Loss = 2.8172779083251953\n",
      "Age accuracy = 0.5639022984364868\tRace accuracy = 0.6079256430578572\tGender accuracy = 0.9307587001945385\n",
      "Age loss = 1.0300397872924805\tRace loss = 1.0363579988479614\tGender Loss = 0.18084491789340973\n"
     ]
    },
    {
     "name": "stderr",
     "output_type": "stream",
     "text": [
      "100%|██████████| 34/34 [00:08<00:00,  3.88it/s]\n"
     ]
    },
    {
     "name": "stdout",
     "output_type": "stream",
     "text": [
      "Validation step:\n",
      "Epoch = 20, Loss = 3.4760097054874195\n",
      "Age accuracy = 0.5064845236036659\tRace accuracy = 0.5727131246757738\tGender accuracy = 0.9017810824831403\n",
      "Age loss = 1.2704695463180542\tRace loss = 1.2649340629577637\tGender Loss = 0.2737344205379486\n",
      "End of Epoch: 20 \tTraining Loss: 2.8172779083251953 \tValidation Loss: 3.4760097054874195\n"
     ]
    },
    {
     "name": "stderr",
     "output_type": "stream",
     "text": [
      "100%|██████████| 136/136 [01:01<00:00,  2.21it/s]\n"
     ]
    },
    {
     "name": "stdout",
     "output_type": "stream",
     "text": [
      "Training step:\n",
      "Epoch = 21, Loss = 2.7727041244506836\n",
      "Age accuracy = 0.5691476331147777\tRace accuracy = 0.6141796959435117\tGender accuracy = 0.9313927516391671\n",
      "Age loss = 1.0164052248001099\tRace loss = 1.0157040357589722\tGender Loss = 0.18098069727420807\n"
     ]
    },
    {
     "name": "stderr",
     "output_type": "stream",
     "text": [
      "100%|██████████| 34/34 [00:09<00:00,  3.77it/s]\n"
     ]
    },
    {
     "name": "stdout",
     "output_type": "stream",
     "text": [
      "Validation step:\n",
      "Epoch = 21, Loss = 3.4855409580118515\n",
      "Age accuracy = 0.5038907141621995\tRace accuracy = 0.5707533575422215\tGender accuracy = 0.9039714104559341\n",
      "Age loss = 1.274201512336731\tRace loss = 1.2729430198669434\tGender Loss = 0.257257878780365\n",
      "End of Epoch: 21 \tTraining Loss: 2.7727041244506836 \tValidation Loss: 3.4855409580118515\n"
     ]
    },
    {
     "name": "stderr",
     "output_type": "stream",
     "text": [
      "100%|██████████| 136/136 [01:02<00:00,  2.17it/s]\n"
     ]
    },
    {
     "name": "stdout",
     "output_type": "stream",
     "text": [
      "Training step:\n",
      "Epoch = 22, Loss = 2.7402353286743164\n",
      "Age accuracy = 0.5760933784854817\tRace accuracy = 0.6210822105339001\tGender accuracy = 0.9314792131997982\n",
      "Age loss = 1.0056049823760986\tRace loss = 1.0027973651885986\tGender Loss = 0.17743618786334991\n"
     ]
    },
    {
     "name": "stderr",
     "output_type": "stream",
     "text": [
      "100%|██████████| 34/34 [00:08<00:00,  3.97it/s]\n"
     ]
    },
    {
     "name": "stdout",
     "output_type": "stream",
     "text": [
      "Validation step:\n",
      "Epoch = 22, Loss = 3.4077773024054134\n",
      "Age accuracy = 0.5226237823505677\tRace accuracy = 0.5690241512479105\tGender accuracy = 0.902703325840106\n",
      "Age loss = 1.2402938604354858\tRace loss = 1.2500391006469727\tGender Loss = 0.25694191455841064\n",
      "End of Epoch: 22 \tTraining Loss: 2.7402353286743164 \tValidation Loss: 3.4077773024054134\n",
      "Validation loss decreased (3.4465835515190575 --> 3.4077773024054134).  Saving model ...\n"
     ]
    },
    {
     "name": "stderr",
     "output_type": "stream",
     "text": [
      "100%|██████████| 136/136 [01:03<00:00,  2.14it/s]\n"
     ]
    },
    {
     "name": "stdout",
     "output_type": "stream",
     "text": [
      "Training step:\n",
      "Epoch = 23, Loss = 2.690908670425415\n",
      "Age accuracy = 0.5796959435117804\tRace accuracy = 0.6253764680452483\tGender accuracy = 0.9349809064053606\n",
      "Age loss = 0.987169623374939\tRace loss = 0.9856404662132263\tGender Loss = 0.17259308695793152\n"
     ]
    },
    {
     "name": "stderr",
     "output_type": "stream",
     "text": [
      "100%|██████████| 34/34 [00:08<00:00,  3.90it/s]\n"
     ]
    },
    {
     "name": "stdout",
     "output_type": "stream",
     "text": [
      "Validation step:\n",
      "Epoch = 23, Loss = 3.589640231693492\n",
      "Age accuracy = 0.49501412185140353\tRace accuracy = 0.5796299498530174\tGender accuracy = 0.9047783733932792\n",
      "Age loss = 1.322075366973877\tRace loss = 1.3006105422973633\tGender Loss = 0.25700828433036804\n",
      "End of Epoch: 23 \tTraining Loss: 2.690908670425415 \tValidation Loss: 3.589640231693492\n"
     ]
    },
    {
     "name": "stderr",
     "output_type": "stream",
     "text": [
      "100%|██████████| 136/136 [01:01<00:00,  2.21it/s]\n"
     ]
    },
    {
     "name": "stdout",
     "output_type": "stream",
     "text": [
      "Training step:\n",
      "Epoch = 24, Loss = 2.664153814315796\n",
      "Age accuracy = 0.5874774839685857\tRace accuracy = 0.6327977519994236\tGender accuracy = 0.9364363426759853\n",
      "Age loss = 0.9824941158294678\tRace loss = 0.9698874354362488\tGender Loss = 0.1686198115348816\n"
     ]
    },
    {
     "name": "stderr",
     "output_type": "stream",
     "text": [
      "100%|██████████| 34/34 [00:08<00:00,  3.90it/s]\n"
     ]
    },
    {
     "name": "stdout",
     "output_type": "stream",
     "text": [
      "Validation step:\n",
      "Epoch = 24, Loss = 3.500332236289978\n",
      "Age accuracy = 0.5169174015793417\tRace accuracy = 0.577036140411551\tGender accuracy = 0.9042596115049859\n",
      "Age loss = 1.2770473957061768\tRace loss = 1.2791029214859009\tGender Loss = 0.26730504631996155\n",
      "End of Epoch: 24 \tTraining Loss: 2.664153814315796 \tValidation Loss: 3.500332236289978\n"
     ]
    },
    {
     "name": "stderr",
     "output_type": "stream",
     "text": [
      "100%|██████████| 136/136 [01:04<00:00,  2.11it/s]\n"
     ]
    },
    {
     "name": "stdout",
     "output_type": "stream",
     "text": [
      "Training step:\n",
      "Epoch = 25, Loss = 2.6414637565612793\n",
      "Age accuracy = 0.5888320484184739\tRace accuracy = 0.6359824194826716\tGender accuracy = 0.9360328553930398\n",
      "Age loss = 0.9709621071815491\tRace loss = 0.9655161499977112\tGender Loss = 0.16777899861335754\n"
     ]
    },
    {
     "name": "stderr",
     "output_type": "stream",
     "text": [
      "100%|██████████| 34/34 [00:08<00:00,  3.96it/s]\n"
     ]
    },
    {
     "name": "stdout",
     "output_type": "stream",
     "text": [
      "Validation step:\n",
      "Epoch = 25, Loss = 3.555933145915761\n",
      "Age accuracy = 0.5048705977289757\tRace accuracy = 0.5792264683843449\tGender accuracy = 0.9030491670989682\n",
      "Age loss = 1.2978509664535522\tRace loss = 1.2980605363845825\tGender Loss = 0.2740184962749481\n",
      "End of Epoch: 25 \tTraining Loss: 2.6414637565612793 \tValidation Loss: 3.555933145915761\n"
     ]
    },
    {
     "name": "stderr",
     "output_type": "stream",
     "text": [
      "100%|██████████| 136/136 [01:03<00:00,  2.16it/s]\n"
     ]
    },
    {
     "name": "stdout",
     "output_type": "stream",
     "text": [
      "Training step:\n",
      "Epoch = 26, Loss = 2.6073296070098877\n",
      "Age accuracy = 0.5927948699474026\tRace accuracy = 0.6421788313279054\tGender accuracy = 0.9394769075581815\n",
      "Age loss = 0.9657964110374451\tRace loss = 0.9442499876022339\tGender Loss = 0.16321898996829987\n"
     ]
    },
    {
     "name": "stderr",
     "output_type": "stream",
     "text": [
      "100%|██████████| 34/34 [00:08<00:00,  3.94it/s]\n"
     ]
    },
    {
     "name": "stdout",
     "output_type": "stream",
     "text": [
      "Validation step:\n",
      "Epoch = 26, Loss = 3.5227833916159237\n",
      "Age accuracy = 0.516168078851807\tRace accuracy = 0.5734624474033085\tGender accuracy = 0.901262320594847\n",
      "Age loss = 1.2750767469406128\tRace loss = 1.293932318687439\tGender Loss = 0.2917206585407257\n",
      "End of Epoch: 26 \tTraining Loss: 2.6073296070098877 \tValidation Loss: 3.5227833916159237\n"
     ]
    },
    {
     "name": "stderr",
     "output_type": "stream",
     "text": [
      "100%|██████████| 136/136 [01:02<00:00,  2.16it/s]\n"
     ]
    },
    {
     "name": "stdout",
     "output_type": "stream",
     "text": [
      "Training step:\n",
      "Epoch = 27, Loss = 2.5581047534942627\n",
      "Age accuracy = 0.5983428200879026\tRace accuracy = 0.6506808847899704\tGender accuracy = 0.9396065998991282\n",
      "Age loss = 0.94437575340271\tRace loss = 0.9301934242248535\tGender Loss = 0.16125480830669403\n"
     ]
    },
    {
     "name": "stderr",
     "output_type": "stream",
     "text": [
      "100%|██████████| 34/34 [00:09<00:00,  3.73it/s]\n"
     ]
    },
    {
     "name": "stdout",
     "output_type": "stream",
     "text": [
      "Validation step:\n",
      "Epoch = 27, Loss = 3.5587480348699234\n",
      "Age accuracy = 0.5127096662631851\tRace accuracy = 0.5756527753761024\tGender accuracy = 0.9035679289872615\n",
      "Age loss = 1.2812057733535767\tRace loss = 1.321005940437317\tGender Loss = 0.276856392621994\n",
      "End of Epoch: 27 \tTraining Loss: 2.5581047534942627 \tValidation Loss: 3.5587480348699234\n"
     ]
    },
    {
     "name": "stderr",
     "output_type": "stream",
     "text": [
      "100%|██████████| 136/136 [01:02<00:00,  2.18it/s]\n"
     ]
    },
    {
     "name": "stdout",
     "output_type": "stream",
     "text": [
      "Training step:\n",
      "Epoch = 28, Loss = 2.5389626026153564\n",
      "Age accuracy = 0.6035881547661935\tRace accuracy = 0.6511852438936523\tGender accuracy = 0.9403847539448087\n",
      "Age loss = 0.9372628331184387\tRace loss = 0.9235798716545105\tGender Loss = 0.1590336710214615\n"
     ]
    },
    {
     "name": "stderr",
     "output_type": "stream",
     "text": [
      "100%|██████████| 34/34 [00:08<00:00,  3.84it/s]\n"
     ]
    },
    {
     "name": "stdout",
     "output_type": "stream",
     "text": [
      "Validation step:\n",
      "Epoch = 28, Loss = 3.4861849616555607\n",
      "Age accuracy = 0.5256210732607066\tRace accuracy = 0.571963801948239\tGender accuracy = 0.8998213153495879\n",
      "Age loss = 1.2678226232528687\tRace loss = 1.2769144773483276\tGender Loss = 0.27412429451942444\n",
      "End of Epoch: 28 \tTraining Loss: 2.5389626026153564 \tValidation Loss: 3.4861849616555607\n"
     ]
    },
    {
     "name": "stderr",
     "output_type": "stream",
     "text": [
      "100%|██████████| 136/136 [01:01<00:00,  2.21it/s]\n"
     ]
    },
    {
     "name": "stdout",
     "output_type": "stream",
     "text": [
      "Training step:\n",
      "Epoch = 29, Loss = 2.5306105613708496\n",
      "Age accuracy = 0.6066575401686001\tRace accuracy = 0.6539808343540601\tGender accuracy = 0.940413574465019\n",
      "Age loss = 0.935469925403595\tRace loss = 0.9188323616981506\tGender Loss = 0.1587044596672058\n"
     ]
    },
    {
     "name": "stderr",
     "output_type": "stream",
     "text": [
      "100%|██████████| 34/34 [00:08<00:00,  4.00it/s]\n"
     ]
    },
    {
     "name": "stdout",
     "output_type": "stream",
     "text": [
      "Validation step:\n",
      "Epoch = 29, Loss = 3.5730487739338592\n",
      "Age accuracy = 0.5135742694103407\tRace accuracy = 0.572424923626722\tGender accuracy = 0.9036832094068823\n",
      "Age loss = 1.2997586727142334\tRace loss = 1.3089128732681274\tGender Loss = 0.27873659133911133\n",
      "End of Epoch: 29 \tTraining Loss: 2.5306105613708496 \tValidation Loss: 3.5730487739338592\n"
     ]
    },
    {
     "name": "stderr",
     "output_type": "stream",
     "text": [
      "100%|██████████| 136/136 [01:02<00:00,  2.18it/s]\n"
     ]
    },
    {
     "name": "stdout",
     "output_type": "stream",
     "text": [
      "Training step:\n",
      "Epoch = 30, Loss = 2.4880597591400146\n",
      "Age accuracy = 0.6142229267238274\tRace accuracy = 0.6613732977880251\tGender accuracy = 0.9427192160818503\n",
      "Age loss = 0.9219799041748047\tRace loss = 0.901896059513092\tGender Loss = 0.15112444758415222\n"
     ]
    },
    {
     "name": "stderr",
     "output_type": "stream",
     "text": [
      "100%|██████████| 34/34 [00:09<00:00,  3.64it/s]\n"
     ]
    },
    {
     "name": "stdout",
     "output_type": "stream",
     "text": [
      "Validation step:\n",
      "Epoch = 30, Loss = 3.5654926580541275\n",
      "Age accuracy = 0.5048705977289757\tRace accuracy = 0.5706957173324111\tGender accuracy = 0.9029915268891578\n",
      "Age loss = 1.302846074104309\tRace loss = 1.2949550151824951\tGender Loss = 0.29129067063331604\n",
      "End of Epoch: 30 \tTraining Loss: 2.4880597591400146 \tValidation Loss: 3.5654926580541275\n"
     ]
    },
    {
     "name": "stderr",
     "output_type": "stream",
     "text": [
      "100%|██████████| 136/136 [01:02<00:00,  2.19it/s]\n"
     ]
    },
    {
     "name": "stdout",
     "output_type": "stream",
     "text": [
      "Training step:\n",
      "Epoch = 31, Loss = 2.4529170989990234\n",
      "Age accuracy = 0.6174796455076014\tRace accuracy = 0.6669500684487355\tGender accuracy = 0.9418401902154334\n",
      "Age loss = 0.9061363339424133\tRace loss = 0.8918332457542419\tGender Loss = 0.1523255854845047\n"
     ]
    },
    {
     "name": "stderr",
     "output_type": "stream",
     "text": [
      "100%|██████████| 34/34 [00:09<00:00,  3.63it/s]\n"
     ]
    },
    {
     "name": "stdout",
     "output_type": "stream",
     "text": [
      "Validation step:\n",
      "Epoch = 31, Loss = 3.695848731433644\n",
      "Age accuracy = 0.5060810421349934\tRace accuracy = 0.5809556746786558\tGender accuracy = 0.9029915268891578\n",
      "Age loss = 1.3605608940124512\tRace loss = 1.333344578742981\tGender Loss = 0.28786224126815796\n",
      "End of Epoch: 31 \tTraining Loss: 2.4529170989990234 \tValidation Loss: 3.695848731433644\n"
     ]
    },
    {
     "name": "stderr",
     "output_type": "stream",
     "text": [
      "100%|██████████| 136/136 [01:01<00:00,  2.22it/s]\n"
     ]
    },
    {
     "name": "stdout",
     "output_type": "stream",
     "text": [
      "Training step:\n",
      "Epoch = 32, Loss = 2.417410135269165\n",
      "Age accuracy = 0.6234887239714677\tRace accuracy = 0.6694430434469342\tGender accuracy = 0.9446790114561567\n",
      "Age loss = 0.8947915434837341\tRace loss = 0.8782593607902527\tGender Loss = 0.14442509412765503\n"
     ]
    },
    {
     "name": "stderr",
     "output_type": "stream",
     "text": [
      "100%|██████████| 34/34 [00:08<00:00,  3.82it/s]\n"
     ]
    },
    {
     "name": "stdout",
     "output_type": "stream",
     "text": [
      "Validation step:\n",
      "Epoch = 32, Loss = 3.657230678726645\n",
      "Age accuracy = 0.5150729148654101\tRace accuracy = 0.5863162141910196\tGender accuracy = 0.9064499394777797\n",
      "Age loss = 1.3175777196884155\tRace loss = 1.3566464185714722\tGender Loss = 0.28360074758529663\n",
      "End of Epoch: 32 \tTraining Loss: 2.417410135269165 \tValidation Loss: 3.657230678726645\n"
     ]
    },
    {
     "name": "stderr",
     "output_type": "stream",
     "text": [
      "100%|██████████| 136/136 [01:04<00:00,  2.10it/s]\n"
     ]
    },
    {
     "name": "stdout",
     "output_type": "stream",
     "text": [
      "Training step:\n",
      "Epoch = 33, Loss = 2.4123458862304688\n",
      "Age accuracy = 0.6202031846674833\tRace accuracy = 0.6744145831832264\tGender accuracy = 0.9446646011960516\n",
      "Age loss = 0.9021033644676208\tRace loss = 0.8633703589439392\tGender Loss = 0.1486300826072693\n"
     ]
    },
    {
     "name": "stderr",
     "output_type": "stream",
     "text": [
      "100%|██████████| 34/34 [00:08<00:00,  3.83it/s]\n"
     ]
    },
    {
     "name": "stdout",
     "output_type": "stream",
     "text": [
      "Validation step:\n",
      "Epoch = 33, Loss = 3.6694892434512867\n",
      "Age accuracy = 0.5090783330451323\tRace accuracy = 0.5725402040463428\tGender accuracy = 0.9016081618537092\n",
      "Age loss = 1.3222962617874146\tRace loss = 1.3585610389709473\tGender Loss = 0.292511910200119\n",
      "End of Epoch: 33 \tTraining Loss: 2.4123458862304688 \tValidation Loss: 3.6694892434512867\n"
     ]
    },
    {
     "name": "stderr",
     "output_type": "stream",
     "text": [
      "100%|██████████| 136/136 [01:05<00:00,  2.07it/s]\n"
     ]
    },
    {
     "name": "stdout",
     "output_type": "stream",
     "text": [
      "Training step:\n",
      "Epoch = 34, Loss = 2.3968024253845215\n",
      "Age accuracy = 0.6250018012825131\tRace accuracy = 0.6767058145399525\tGender accuracy = 0.9444196267742633\n",
      "Age loss = 0.8958854079246521\tRace loss = 0.8594059348106384\tGender Loss = 0.14384543895721436\n"
     ]
    },
    {
     "name": "stderr",
     "output_type": "stream",
     "text": [
      "100%|██████████| 34/34 [00:08<00:00,  3.96it/s]\n"
     ]
    },
    {
     "name": "stdout",
     "output_type": "stream",
     "text": [
      "Validation step:\n",
      "Epoch = 34, Loss = 3.6805023235433243\n",
      "Age accuracy = 0.5052740791976483\tRace accuracy = 0.5783042250273791\tGender accuracy = 0.9020116433223817\n",
      "Age loss = 1.3227906227111816\tRace loss = 1.3651026487350464\tGender Loss = 0.30044394731521606\n",
      "End of Epoch: 34 \tTraining Loss: 2.3968024253845215 \tValidation Loss: 3.6805023235433243\n"
     ]
    }
   ],
   "source": [
    "def train_model(model, criterion, optimizer, scheduler_lr, device, loaders, tensor_writer, mappings, class_weights, byol_learner, n_epochs=25):\n",
    "\n",
    "    \"\"\"Fine-tune the model and returns it\n",
    "    Args:\n",
    "        model: The model to be trained.\n",
    "        criterion: The loss function to be used.\n",
    "        optimizer: The optimizer to be used.\n",
    "        scheduler_lr: The learning rate scheduler to be used.\n",
    "        device: The device to be used.\n",
    "        loaders: A dictionary containing the train and test data loaders.\n",
    "        tensor_writer: A TensorBoard writer.\n",
    "        mappings: A dictionary mapping labels to their corresponding indices.\n",
    "        n_epochs: The number of epochs to train for.\n",
    "\n",
    "    Returns:\n",
    "        The trained model.\n",
    "    \"\"\"\n",
    "    # unpack_loss_coefs\n",
    "    age_weight: float = class_weights['age']\n",
    "    gender_weight: float = class_weights['gender']\n",
    "    race_weight: float = class_weights['race']\n",
    "    # Whether to use learning rate scheduler\n",
    "    use_lr_scheduler = False\n",
    "\n",
    "    # Train and validation data pytorch loaders \n",
    "    train_loader, test_loader = loaders\n",
    "\n",
    "    # In the custom implementation of the pytorch dataset train_mode attribute was added for more convenient observance of the image\n",
    "    data.check_train_mode_off(train_loader, 'train')\n",
    "    data.check_train_mode_off(test_loader, 'test')\n",
    "\n",
    "    # Flag that shows whether CCE or BCE is used during training\n",
    "    cce_mark = type(criterion) == torch.nn.modules.loss.CrossEntropyLoss\n",
    "\n",
    "    # Initializing of minimal value of validation loss to compare in following code\n",
    "    valid_loss_min = torch.inf\n",
    "\n",
    "    # starts training epochs[default = 25]\n",
    "    for epoch in range(1, n_epochs):\n",
    "        # Define train and each ANN head losses to compare if it is decreasing during training process\n",
    "        train_loss = .0\n",
    "        age_train_loss, race_train_loss, gender_train_loss = .0, .0, .0\n",
    "\n",
    "        model.train()\n",
    "\n",
    "        # whether learning rate scheduler is used make the step of it or not\n",
    "        if use_lr_scheduler:\n",
    "            scheduler_lr.step()\n",
    "        \n",
    "        # ground truths and predictions of the each head of the ANN\n",
    "        all_age_preds = []\n",
    "        all_age_labels = []\n",
    "\n",
    "        all_gender_preds = []\n",
    "        all_gender_labels = []\n",
    "\n",
    "        all_race_preds = []\n",
    "        all_race_labels = []\n",
    "\n",
    "        # As far as loaders have mini-batch feature and provide samples in that amounts, so iterate over these mini-batches \n",
    "        for sample_batched in tqdm(train_loader):\n",
    "            # read every element of the sample and send it to device[GPU as it is expected]\n",
    "            image, age = sample_batched['image'].float().to(device), sample_batched['age'].to(device)\n",
    "            gender, race = sample_batched['gender'].to(device), sample_batched['race'].to(device)\n",
    "\n",
    "            # get model's predictions\n",
    "            output = model(image)\n",
    "            # predict age, gender, race labels\n",
    "            age_pred = output['age_pred'].to(device)\n",
    "            gender_pred = output['gender_pred'].to(device)\n",
    "            race_pred = output['race_pred'].to(device)\n",
    "            \n",
    "            # calculate loss[CCE or BCE]\n",
    "            if cce_mark:\n",
    "                age_loss = criterion(age_pred, age)\n",
    "                race_loss = criterion(race_pred, race)\n",
    "                gender_loss = criterion(gender_pred, gender)\n",
    "            else:\n",
    "                # If it is BCE firstly convert to the one-hot encoded vector\n",
    "                age_dummy = data.get_dummy(age_dict, age, device)\n",
    "                race_dummy = data.get_dummy(race_dict, race, device)\n",
    "                gender_dummy = data.get_dummy(gender_dict, gender, device)\n",
    "\n",
    "                # Then calculate the loss\n",
    "                age_loss = criterion(age_pred, age_dummy)\n",
    "                race_loss = criterion(race_pred, race_dummy)\n",
    "                gender_loss = criterion(gender_pred, gender_dummy)\n",
    "\n",
    "            # total loss and back propagation\n",
    "            loss = age_loss * age_weight + race_loss * race_weight + gender_loss * gender_weight\n",
    "\n",
    "            # add the loss of age, race, gender heads to their total losses of the epoch\n",
    "            age_train_loss += age_loss\n",
    "            race_train_loss += race_loss\n",
    "            gender_train_loss += gender_loss\n",
    "            train_loss += loss \n",
    "\n",
    "            # Clear the gradients of all parameters\n",
    "            optimizer.zero_grad()\n",
    "            # Compute the gradients of the loss function with respect to the model's parameters\n",
    "            loss.backward()\n",
    "            # optimization step\n",
    "            optimizer.step()\n",
    "            # pytorch byol learner step\n",
    "            byol_learner.update_moving_average()\n",
    "\n",
    "            # Get Age prediction \n",
    "            _, age_predicted = torch.max(torch.softmax(output['age_pred'].data, dim=1), 1)\n",
    "            # Get Race prediction\n",
    "            _, race_predicted = torch.max(torch.softmax(output['race_pred'].data, dim=1), 1)\n",
    "            # Get Gender prediction \n",
    "            _, gender_predicted = torch.max(torch.softmax(output['gender_pred'].data, dim=1), 1)\n",
    "\n",
    "            # Append computed above predictions to the vector for the following comparing\n",
    "            all_age_preds.extend([i.item() for i in age_predicted])\n",
    "            all_gender_preds.extend([i.item() for i in gender_predicted])\n",
    "            all_race_preds.extend([i.item() for i in race_predicted])\n",
    "\n",
    "            # Append true labels of the dataset to the vector for the following comparing \n",
    "            all_age_labels.extend([i.item() for i in age])\n",
    "            all_gender_labels.extend([i.item() for i in gender])\n",
    "            all_race_labels.extend([i.item() for i in race])\n",
    "\n",
    "        # Every epoch log metrics and losses to the tensorboard to track whether the model is training or not\n",
    "        \n",
    "        losses = {'loss' : train_loss, 'age' : age_train_loss, 'race' : race_train_loss, 'gender' : gender_train_loss}\n",
    "        losses = {k : v / len(train_loader) for (k, v) in losses.items()}\n",
    "        labels = {'age' : all_age_labels, 'race' : all_race_labels, 'gender' : all_gender_labels}\n",
    "        preds = {'age' : all_age_preds, 'race' : all_race_preds, 'gender' : all_gender_preds}\n",
    "\n",
    "        print('Training step:')\n",
    "        tensor_writer = metrics.log_tensorboard(tensor_writer, losses, labels, preds, mappings, epoch, mode='Train')\n",
    "\n",
    "\n",
    "        # Start evaluation step\n",
    "        model.eval()\n",
    "\n",
    "        # Don't compute gradients during this step\n",
    "        with torch.no_grad():\n",
    "            # Define vectors of true labels and predictions, current validation loss and each head's loss as like as above\n",
    "            # for accuracy, precision, recall, f1 etc. comparing\n",
    "            valid_age_preds = []\n",
    "            valid_age_labels = []\n",
    "\n",
    "            valid_gender_preds = []\n",
    "            valid_gender_labels = []\n",
    "\n",
    "            valid_race_preds = []\n",
    "            valid_race_labels = []\n",
    "\n",
    "            valid_loss = .0\n",
    "            valid_age_loss, valid_race_loss, valid_gender_loss = .0, .0, .0\n",
    "\n",
    "            # Iterate over the batches of the validation dataloader\n",
    "            for sample_batched in tqdm(test_loader):\n",
    "                # read every element of the sample and send it to device[GPU as it is expected]\n",
    "                image, age = sample_batched['image'].float().to(device), sample_batched['age'].to(device)\n",
    "                gender, race = sample_batched['gender'].to(device), sample_batched['race'].to(device)\n",
    "\n",
    "                # get model's predictions\n",
    "                output = model(image)\n",
    "\n",
    "                # predict age, gender, race labels\n",
    "                age_pred = output['age_pred'].to(device)\n",
    "                gender_pred = output['gender_pred'].to(device)\n",
    "                race_pred = output['race_pred'].to(device)\n",
    "\n",
    "                # calculate loss[CCE or BCE]\n",
    "                if cce_mark:\n",
    "                    age_loss = criterion(age_pred, age)\n",
    "                    race_loss = criterion(race_pred, race)\n",
    "                    gender_loss = criterion(gender_pred, gender)\n",
    "                else:\n",
    "                    # If it is BCE firstly convert to the one-hot encoded vector\n",
    "                    age_dummy = data.get_dummy(age_dict, age, device)\n",
    "                    race_dummy = data.get_dummy(race_dict, race, device)\n",
    "                    gender_dummy = data.get_dummy(gender_dict, gender, device)\n",
    "\n",
    "                    # Then calculate the loss\n",
    "                    age_loss = criterion(age_pred, age_dummy)\n",
    "                    race_loss = criterion(race_pred, race_dummy)\n",
    "                    gender_loss = criterion(gender_pred, gender_dummy)\n",
    "\n",
    "                # total loss and back propagation\n",
    "                loss = age_loss * age_weight + race_loss * race_weight + gender_loss * gender_weight\n",
    "\n",
    "                # add the loss of age, race, gender heads to their total losses of the epoch\n",
    "                valid_loss += loss.item()\n",
    "                valid_age_loss += age_loss\n",
    "                valid_race_loss += race_loss\n",
    "                valid_gender_loss += gender_loss\n",
    "\n",
    "                # Get Age prediction \n",
    "                _, age_predicted = torch.max(torch.softmax(output['age_pred'].data, dim=1), 1)\n",
    "                # Get Race prediction \n",
    "                _, race_predicted = torch.max(torch.softmax(output['race_pred'].data, dim=1), 1)\n",
    "                # Get Gender prediction \n",
    "                _, gender_predicted = torch.max(torch.softmax(output['gender_pred'].data, dim=1), 1)\n",
    "\n",
    "                # Append computed above predictions to the vector for the following comparing\n",
    "                valid_age_preds.extend([i.item() for i in age_predicted])\n",
    "                valid_gender_preds.extend([i.item() for i in gender_predicted])\n",
    "                valid_race_preds.extend([i.item() for i in race_predicted])\n",
    "\n",
    "                # Append true labels of the dataset to the vector for the following comparing \n",
    "                valid_age_labels.extend([i.item() for i in age])\n",
    "                valid_gender_labels.extend([i.item() for i in gender])\n",
    "                valid_race_labels.extend([i.item() for i in race])\n",
    "\n",
    "            # Every epoch log metrics and losses to the tensorboard to track whether the model is training or not\n",
    "            losses = {'loss' : valid_loss, 'age' : valid_age_loss, 'race' : valid_race_loss, 'gender' : valid_gender_loss}\n",
    "            losses = {k : v / len(test_loader) for (k, v) in losses.items()}\n",
    "            labels = {'age' : valid_age_labels, 'race' : valid_race_labels, 'gender' : valid_gender_labels}\n",
    "            preds = {'age' : valid_age_preds, 'race' : valid_race_preds, 'gender' : valid_gender_preds}\n",
    "\n",
    "            print('Validation step:')\n",
    "            tensor_writer = metrics.log_tensorboard(tensor_writer, losses, labels, preds, mappings, epoch, mode='Validation')\n",
    "\n",
    "        # print training/validation statistics \n",
    "        valid_loss /= len(test_loader)\n",
    "        train_loss /= len(train_loader)\n",
    "\n",
    "        model_state = {\n",
    "            'epoch': epoch + 1,\n",
    "            'state_dict': model.state_dict(),\n",
    "            'optimizer': optimizer.state_dict()\n",
    "        }\n",
    "        checkpoint_dir = Path('../models/checkpoint/')\n",
    "        best_model_dir = Path('../models/best_model/')\n",
    "\n",
    "        print(f'End of Epoch: {epoch} \\tTraining Loss: {train_loss} \\tValidation Loss: {valid_loss}')\n",
    "        \n",
    "        # if validation loss of the current epoch is lower than previous one - save the model\n",
    "        if valid_loss < valid_loss_min:\n",
    "            models_path = '../models/'\n",
    "            if not os.path.exists(models_path):\n",
    "                for path in ('../models/', checkpoint_dir, best_model_dir):\n",
    "                    os.mkdir(path)\n",
    "            utils.checkpoint(model_state, True, checkpoint_dir, best_model_dir)\n",
    "            print(f'Validation loss decreased ({valid_loss_min} --> {valid_loss}).  Saving model ...')\n",
    "            valid_loss_min = valid_loss\n",
    "        \n",
    "        # Do the checkpoint for the model every epoch\n",
    "        utils.checkpoint(model_state, False, checkpoint_dir, best_model_dir)\n",
    "\n",
    "    # return trained model\n",
    "    return model\n",
    "\n",
    "# map ages\n",
    "mappings = {'age_map' : utils.get_mappings(age_dict),\n",
    "            'gender_map' : utils.get_mappings(gender_dict),\n",
    "            'race_map' : utils.get_mappings(race_dict)}\n",
    "# train the model\n",
    "best_model = train_model(model, criterion, optimizer, scheduler_lr=scheduler, device=device, loaders=[train_loader, test_loader],tensor_writer=writer, mappings=mappings, class_weights=class_weights, byol_learner=learner, n_epochs=35)"
   ]
  },
  {
   "cell_type": "code",
   "execution_count": null,
   "metadata": {},
   "outputs": [],
   "source": [
    "best_dir = Path('../models/checkpoint/checkpoint.pt')\n",
    "model, optimizer, epoch = utils.load_ckp(best_dir, model, optimizer)\n",
    "model = model.to(device)\n"
   ]
  },
  {
   "cell_type": "code",
   "execution_count": 15,
   "metadata": {},
   "outputs": [
    {
     "name": "stderr",
     "output_type": "stream",
     "text": [
      "100%|██████████| 22/22 [00:05<00:00,  3.95it/s]\n"
     ]
    },
    {
     "data": {
      "image/png": "[encoded data removed]",
      "text/plain": [
       "<Figure size 2400x500 with 6 Axes>"
      ]
     },
     "metadata": {},
     "output_type": "display_data"
    }
   ],
   "source": [
    "mappings = {'age_map' : utils.get_mappings(age_dict),\n",
    "            'gender_map' : utils.get_mappings(gender_dict),\n",
    "            'race_map' : utils.get_mappings(race_dict)}\n",
    "\n",
    "ages, genders, races = metrics.build_confusion_matrix(model, val_loader, mappings, device=device)"
   ]
  },
  {
   "cell_type": "code",
   "execution_count": 16,
   "metadata": {},
   "outputs": [
    {
     "name": "stderr",
     "output_type": "stream",
     "text": [
      "100%|██████████| 22/22 [00:06<00:00,  3.46it/s]\n"
     ]
    },
    {
     "data": {
      "text/html": [
       "<div>\n",
       "<style scoped>\n",
       "    .dataframe tbody tr th:only-of-type {\n",
       "        vertical-align: middle;\n",
       "    }\n",
       "\n",
       "    .dataframe tbody tr th {\n",
       "        vertical-align: top;\n",
       "    }\n",
       "\n",
       "    .dataframe thead th {\n",
       "        text-align: right;\n",
       "    }\n",
       "</style>\n",
       "<table border=\"1\" class=\"dataframe\">\n",
       "  <thead>\n",
       "    <tr style=\"text-align: right;\">\n",
       "      <th></th>\n",
       "      <th>accuracy</th>\n",
       "      <th>precision</th>\n",
       "      <th>recall</th>\n",
       "      <th>f1</th>\n",
       "    </tr>\n",
       "  </thead>\n",
       "  <tbody>\n",
       "    <tr>\n",
       "      <th>age</th>\n",
       "      <td>0.508855</td>\n",
       "      <td>0.493169</td>\n",
       "      <td>0.515885</td>\n",
       "      <td>0.492138</td>\n",
       "    </tr>\n",
       "    <tr>\n",
       "      <th>gender</th>\n",
       "      <td>0.899671</td>\n",
       "      <td>0.899534</td>\n",
       "      <td>0.899070</td>\n",
       "      <td>0.899282</td>\n",
       "    </tr>\n",
       "    <tr>\n",
       "      <th>race</th>\n",
       "      <td>0.573946</td>\n",
       "      <td>0.593161</td>\n",
       "      <td>0.576566</td>\n",
       "      <td>0.577226</td>\n",
       "    </tr>\n",
       "  </tbody>\n",
       "</table>\n",
       "</div>"
      ],
      "text/plain": [
       "        accuracy  precision    recall        f1\n",
       "age     0.508855   0.493169  0.515885  0.492138\n",
       "gender  0.899671   0.899534  0.899070  0.899282\n",
       "race    0.573946   0.593161  0.576566  0.577226"
      ]
     },
     "execution_count": 16,
     "metadata": {},
     "output_type": "execute_result"
    }
   ],
   "source": [
    "metrics.calc_measures(model, val_loader, device)"
   ]
  },
  {
   "cell_type": "code",
   "execution_count": 58,
   "metadata": {},
   "outputs": [
    {
     "name": "stderr",
     "output_type": "stream",
     "text": [
      "100%|██████████| 22/22 [00:05<00:00,  3.84it/s]\n"
     ]
    }
   ],
   "source": [
    "def get_mismatched_classes(model, loader, true_cat, pred_cat, dictionary, output_class, device):\n",
    "    \"\"\"Gets the mismatched images for the given model, loader, true category, predicted category, dictionary, output class, and device.\n",
    "\n",
    "    Args:\n",
    "        model: The model to evaluate.\n",
    "        loader: The loader to use to load the data.\n",
    "        true_cat: The true category.\n",
    "        pred_cat: The predicted category.\n",
    "        dictionary: A dictionary mapping category names to indices.\n",
    "        output_class: The output class.\n",
    "        device: The device to use.\n",
    "\n",
    "    Returns:\n",
    "        A list of mismatched images.\n",
    "    \"\"\"\n",
    "    # Initialize a list to store the mismatched images.\n",
    "    mismatched_img = []\n",
    "    # Set the model to evaluation mode.\n",
    "    model.eval()\n",
    "    # Iterate over the loader.\n",
    "    with torch.no_grad():   \n",
    "          \n",
    "        for batch in tqdm(loader):\n",
    "            # Move the images and labels to the device.\n",
    "            image = batch['image'].to(device)\n",
    "            age = batch[output_class].to(device)\n",
    "            # Make a prediction.\n",
    "            output = model(image)\n",
    "\n",
    "            # Get the predicted class.\n",
    "            _, predicted = torch.max(torch.softmax(output[f'{output_class}_pred'].data, dim=1), 1)\n",
    "            # Iterate over the true and predicted classes.\n",
    "            for true, pred, img in zip(age, predicted, image):\n",
    "                # If the true and predicted categories are not the same, add the image to the list of mismatched images.\n",
    "                if dictionary[true_cat] == int(true) and dictionary[pred_cat] == int(pred):\n",
    "                    mismatched_img.append(img)\n",
    "                    \n",
    "    # Return the list of mismatched images.\n",
    "    return mismatched_img\n",
    "\n",
    "true_cat = 'Latino_Hispanic'\n",
    "pred_cat = 'Middle Eastern'\n",
    "mism_imgs = get_mismatched_classes(model, val_loader, true_cat, pred_cat, race_dict, 'race', device)\n",
    "mism_imgs = [i.cpu() for i in mism_imgs]"
   ]
  },
  {
   "cell_type": "code",
   "execution_count": 59,
   "metadata": {},
   "outputs": [
    {
     "name": "stderr",
     "output_type": "stream",
     "text": [
      "100%|██████████| 435/435 [00:22<00:00, 19.62it/s]\n"
     ]
    }
   ],
   "source": [
    "import matplotlib.pyplot as plt\n",
    "\n",
    "import torchvision.transforms.functional as F\n",
    "\n",
    "\n",
    "plt.rcParams[\"savefig.bbox\"] = 'tight'\n",
    "\n",
    "class Unnormalize(nn.Module):\n",
    "    def __init__(self, mean, std):\n",
    "        super(Unnormalize, self).__init__()\n",
    "        self.mean = torch.tensor(mean)\n",
    "        self.std = torch.tensor(std)\n",
    "\n",
    "    def forward(self, x):\n",
    "        return self.unnormalize(x)\n",
    "\n",
    "    def unnormalize(self, x):\n",
    "        # Assuming x is a PyTorch tensor\n",
    "        return x * self.std[None, :, None, None] + self.mean[None, :, None, None]\n",
    "\n",
    "def show(imgs, true_cat, pred_cat):\n",
    "    if not os.path.exists('../mismatched'):\n",
    "        os.mkdir('../mismatched')\n",
    "        \n",
    "    img_batch = []\n",
    "    cur_batch = 1\n",
    "    if not isinstance(imgs, list):\n",
    "        imgs = [imgs]\n",
    "    for i, img in enumerate(tqdm(imgs)):\n",
    "        img = np.array(img).transpose(1, 2, 0)\n",
    "        img_batch.append(img)\n",
    "        \n",
    "        if (i + 1) % 20 == 0:\n",
    "            fig = plt.figure(figsize=(8, 8))\n",
    "            plt.title(f'True category = {true_cat}; Mismatched one = {pred_cat}')\n",
    "            columns = 4\n",
    "            rows = 5\n",
    "            for i in range(1, columns*rows + 1):\n",
    "                img = img_batch[i - 1]\n",
    "                ax = fig.add_subplot(rows, columns, i)\n",
    "                ax.set_axis_off()\n",
    "                plt.imshow(img)\n",
    "            fig.set_tight_layout(tight=True)\n",
    "            fig.savefig(f'../mismatched/mismatched_age_number_{cur_batch}.png')\n",
    "            plt.close()\n",
    "\n",
    "            cur_batch += 1\n",
    "            img_batch = []\n",
    "\n",
    "# Example Usage:\n",
    "mean = [0.485, 0.456, 0.406]  # Replace with your actual mean values\n",
    "std = [0.229, 0.224, 0.225]   # Replace with your actual standard deviation values\n",
    "\n",
    "# Create an instance of Unnormalize\n",
    "unnormalize = Unnormalize(mean=mean, std=std)\n",
    "show([unnormalize(i).squeeze(0) for i in mism_imgs], true_cat, pred_cat)"
   ]
  },
  {
   "cell_type": "code",
   "execution_count": null,
   "metadata": {},
   "outputs": [],
   "source": []
  }
 ],
 "metadata": {
  "kernelspec": {
   "display_name": "poetry-root-env",
   "language": "python",
   "name": "poetry-root-env"
  },
  "language_info": {
   "codemirror_mode": {
    "name": "ipython",
    "version": 3
   },
   "file_extension": ".py",
   "mimetype": "text/x-python",
   "name": "python",
   "nbconvert_exporter": "python",
   "pygments_lexer": "ipython3",
   "version": "3.10.13"
  }
 },
 "nbformat": 4,
 "nbformat_minor": 4
}
